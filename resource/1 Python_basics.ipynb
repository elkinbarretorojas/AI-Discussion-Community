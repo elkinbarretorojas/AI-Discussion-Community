{
 "cells": [
  {
   "cell_type": "markdown",
   "metadata": {},
   "source": [
    "# Python\n",
    "## How to use Jupyter Note Book\n",
    "### Basics of Python\n",
    "1 - My first program\n"
   ]
  },
  {
   "cell_type": "code",
   "execution_count": 1,
   "metadata": {},
   "outputs": [
    {
     "name": "stdout",
     "output_type": "stream",
     "text": [
      "Hello Python\n",
      "Wrinting First line of code in Python\n",
      "I am Pro\n"
     ]
    }
   ],
   "source": [
    "print(\"Hello Python\")\n",
    "print(\"Wrinting First line of code in Python\")\n",
    "print(\"I am Pro\")\n"
   ]
  },
  {
   "cell_type": "markdown",
   "metadata": {},
   "source": [
    "## 2- Operators"
   ]
  },
  {
   "cell_type": "code",
   "execution_count": null,
   "metadata": {
    "colab": {
     "base_uri": "https://localhost:8080/"
    },
    "executionInfo": {
     "elapsed": 415,
     "status": "ok",
     "timestamp": 1641122857121,
     "user": {
      "displayName": "Faiza Mehboob",
      "photoUrl": "https://lh3.googleusercontent.com/a-/AOh14Gi7BJBml3eoobMQIzcc3g3bPIpfc2DF9P2QQMY=s64",
      "userId": "04366228182199257668"
     },
     "user_tz": -300
    },
    "id": "cSnQ4CjOiWp8",
    "outputId": "50a95d46-aa63-4161-d4d7-b6567d4c351c"
   },
   "outputs": [],
   "source": [
    "\n",
    "print(2+1)  #Addition\n",
    "print(3-1)   #Subtraction\n",
    "print(6/2) #Divisionwithfloatingpoints\n",
    "print(2*3)   #Multiplication\n",
    "print(13%2)#Reminder\n",
    "print(6//2) #Division\n",
    "print(2**3)\n"
   ]
  },
  {
   "cell_type": "markdown",
   "metadata": {},
   "source": [
    "## 3- Strings"
   ]
  },
  {
   "cell_type": "code",
   "execution_count": null,
   "metadata": {
    "colab": {
     "base_uri": "https://localhost:8080/"
    },
    "executionInfo": {
     "elapsed": 376,
     "status": "ok",
     "timestamp": 1641123015998,
     "user": {
      "displayName": "Faiza Mehboob",
      "photoUrl": "https://lh3.googleusercontent.com/a-/AOh14Gi7BJBml3eoobMQIzcc3g3bPIpfc2DF9P2QQMY=s64",
      "userId": "04366228182199257668"
     },
     "user_tz": -300
    },
    "id": "Ky-2dVbli7vi",
    "outputId": "21088b92-c1b6-43b1-b7cd-c0f628aabc53"
   },
   "outputs": [],
   "source": [
    "\n",
    "print(\"Ahmed\")\n",
    "print(\"Hello world\")\n",
    "print('Ahmed')\n",
    "print(''' Ahmed''')\n",
    "\n",
    "print('   Hello    world')"
   ]
  },
  {
   "cell_type": "markdown",
   "metadata": {},
   "source": [
    "## 4-Comment "
   ]
  },
  {
   "cell_type": "code",
   "execution_count": null,
   "metadata": {
    "id": "eLGpR8WEjUeM"
   },
   "outputs": [],
   "source": [
    "print(\"I am single line comment\") # I am single line comment\n",
    "\n",
    "print(\"I am first line \") \n",
    "print(\"I am 2nd line \")\n",
    "\n",
    "# print(\"I am first line \")\n",
    "# print(\"I am 2nd line \")\n",
    "\n",
    "# I am Multi line comment"
   ]
  },
  {
   "cell_type": "markdown",
   "metadata": {},
   "source": [
    "### 5-Variables"
   ]
  },
  {
   "cell_type": "code",
   "execution_count": null,
   "metadata": {
    "colab": {
     "base_uri": "https://localhost:8080/"
    },
    "executionInfo": {
     "elapsed": 419,
     "status": "ok",
     "timestamp": 1641123391362,
     "user": {
      "displayName": "Faiza Mehboob",
      "photoUrl": "https://lh3.googleusercontent.com/a-/AOh14Gi7BJBml3eoobMQIzcc3g3bPIpfc2DF9P2QQMY=s64",
      "userId": "04366228182199257668"
     },
     "user_tz": -300
    },
    "id": "ipy3RgA3itUg",
    "outputId": "cc8a135a-ece4-4964-bb77-a3a14f84177f"
   },
   "outputs": [],
   "source": [
    "2+3\n",
    "a=5\n",
    "print(a)\n",
    "a=4\n",
    "print(a+3)\n",
    "(print(type(a)))\n",
    "#String variables\n",
    "y=\"Hello string\"\n",
    "print(y)\n",
    "books=\"Maths\"\n",
    "print(books)\n",
    "#types of variables\n",
    "type(a)\n",
    "print(type(a))\n",
    "#print_type_class\n",
    "\n",
    "#Rules\n",
    "#-The variable should contain letters, numbers or underscore\n",
    "#-2 Do not start with numbers\n",
    "#-Spaces are not allowed\n",
    "#-4 Do not use keyewords\n",
    "#- short and descriptive\n",
    "#-Case senesitive \n",
    "fruit_basket = 8\n",
    "fruit_basket= \"mangoes\"\n",
    "print(type(fruit_basket))\n",
    "print(fruit_basket)"
   ]
  },
  {
   "cell_type": "markdown",
   "metadata": {},
   "source": [
    "### 6-Input Vriables"
   ]
  },
  {
   "cell_type": "code",
   "execution_count": null,
   "metadata": {
    "colab": {
     "base_uri": "https://localhost:8080/"
    },
    "executionInfo": {
     "elapsed": 4171,
     "status": "ok",
     "timestamp": 1641123697574,
     "user": {
      "displayName": "Faiza Mehboob",
      "photoUrl": "https://lh3.googleusercontent.com/a-/AOh14Gi7BJBml3eoobMQIzcc3g3bPIpfc2DF9P2QQMY=s64",
      "userId": "04366228182199257668"
     },
     "user_tz": -300
    },
    "id": "tYhXxqGtliCb",
    "outputId": "fd2d234d-0805-4237-9f74-60d283248a16"
   },
   "outputs": [],
   "source": [
    "#Input variables\n",
    "# fruitbasket=\"Grapes\"\n",
    "# print(fruitbasket)\n",
    "\n",
    "# fruitbasket=input(\"What is your favourite fruit\")\n",
    "# print(fruitbasket)\n",
    "# #inout function of 2nd stage\\\n",
    "# name = input(\"What is your name\")\n",
    "# greeting=\"Hello!\"\n",
    "\n",
    "# print(greeting, name)\n",
    "\n",
    "#another way of stage 2 unout function\n",
    "# name= input(\"What is your name\")\n",
    "# print(\"Hello!\", name)\n",
    "\n",
    "#3rd stage inout function\n",
    "name= input(\"What is your name\")\n",
    "age= input(\"How old are you\")\n",
    "greeting=\"Hello!\"\n",
    "\n",
    "print(greeting, name, \", You are still young\")"
   ]
  },
  {
   "cell_type": "code",
   "execution_count": null,
   "metadata": {
    "colab": {
     "base_uri": "https://localhost:8080/"
    },
    "executionInfo": {
     "elapsed": 6433,
     "status": "ok",
     "timestamp": 1641124456236,
     "user": {
      "displayName": "Faiza Mehboob",
      "photoUrl": "https://lh3.googleusercontent.com/a-/AOh14Gi7BJBml3eoobMQIzcc3g3bPIpfc2DF9P2QQMY=s64",
      "userId": "04366228182199257668"
     },
     "user_tz": -300
    },
    "id": "3RinWkwzmHdn",
    "outputId": "ee80bc42-4e2f-4d46-b3ea-e360f5123802"
   },
   "outputs": [],
   "source": [
    "#Name=input(\"What is your name: \")\n",
    "#print(Name)\n",
    "greetings=\"Hello\"\n",
    "\n",
    "Name=input(\"What is your name: \")\n",
    "age=input(\"What is your age\")\n",
    "print(greetings,Name, \",you are still young\")"
   ]
  },
  {
   "cell_type": "markdown",
   "metadata": {},
   "source": [
    "### 7-Conditional Logic"
   ]
  },
  {
   "cell_type": "code",
   "execution_count": null,
   "metadata": {
    "colab": {
     "base_uri": "https://localhost:8080/"
    },
    "executionInfo": {
     "elapsed": 367,
     "status": "ok",
     "timestamp": 1641124891774,
     "user": {
      "displayName": "Faiza Mehboob",
      "photoUrl": "https://lh3.googleusercontent.com/a-/AOh14Gi7BJBml3eoobMQIzcc3g3bPIpfc2DF9P2QQMY=s64",
      "userId": "04366228182199257668"
     },
     "user_tz": -300
    },
    "id": "SKCHqgEUpPd4",
    "outputId": "fd00615c-9e79-4a49-c4ec-cd71303f4cd6"
   },
   "outputs": [],
   "source": [
    "#equal to ==\n",
    "#less than <\n",
    "#greater than >\n",
    "#not equal to !<\n",
    "#less than or equal to <=\n",
    "#greater than or equal to >=\n",
    "\n",
    "print(4==4)\n",
    "print(4!=4)\n",
    "print(4<=5)\n",
    "print(5>=8)\n",
    "\n",
    "# Application of logical operator \n",
    "# hammad_age=3\n",
    "# age_school=5\n",
    "# print(hammad_age==age_school)\n",
    "# hammad_age=3\n",
    "# age_school=5\n",
    "# print(hammad_age==age_school)\n",
    "# print(type(hammad_age))\n",
    "\n",
    "#inout function and logical operator\n",
    "age_school=5\n",
    "hammad_age=input(\"How old is Hammad? \") #input function\n",
    "hammad_age=int(hammad_age)\n",
    "print(type(hammad_age)) \n",
    "print(hammad_age==age_school) #logical operator\n"
   ]
  },
  {
   "cell_type": "markdown",
   "metadata": {},
   "source": [
    "### 8-Type conversion"
   ]
  },
  {
   "cell_type": "code",
   "execution_count": null,
   "metadata": {
    "colab": {
     "base_uri": "https://localhost:8080/"
    },
    "executionInfo": {
     "elapsed": 381,
     "status": "ok",
     "timestamp": 1641130189540,
     "user": {
      "displayName": "Faiza Mehboob",
      "photoUrl": "https://lh3.googleusercontent.com/a-/AOh14Gi7BJBml3eoobMQIzcc3g3bPIpfc2DF9P2QQMY=s64",
      "userId": "04366228182199257668"
     },
     "user_tz": -300
    },
    "id": "741tM046wcpF",
    "outputId": "6395f306-f245-4df4-8c2f-f3da2335808d"
   },
   "outputs": [],
   "source": [
    "# x=15 #integer\n",
    "# y=2.3 #float\n",
    "# z=\"Hello\"  #string\n",
    "# #implicity type cobersion\n",
    "# x=x+y\n",
    "# print(x, \"Type of x is:\", type(x))\n",
    "\n",
    "# age =input(\"what isyour age? \")\n",
    "# #age=int(age)\n",
    "# print(age, type(float(age)))\n",
    "\n",
    "#name\n",
    "\n",
    "name =input(\"what is your name? \")\n",
    "print(name, type(str(name)))"
   ]
  },
  {
   "cell_type": "markdown",
   "metadata": {},
   "source": [
    "### 9-If Else Elif"
   ]
  },
  {
   "cell_type": "code",
   "execution_count": null,
   "metadata": {
    "colab": {
     "base_uri": "https://localhost:8080/"
    },
    "executionInfo": {
     "elapsed": 457,
     "status": "ok",
     "timestamp": 1641130019124,
     "user": {
      "displayName": "Faiza Mehboob",
      "photoUrl": "https://lh3.googleusercontent.com/a-/AOh14Gi7BJBml3eoobMQIzcc3g3bPIpfc2DF9P2QQMY=s64",
      "userId": "04366228182199257668"
     },
     "user_tz": -300
    },
    "id": "dBFV9BWR2oB2",
    "outputId": "8cb09072-4c9f-4bd9-9042-c440cf846f4c"
   },
   "outputs": [],
   "source": [
    "hammad_age=4\n",
    "age_school=5\n",
    "\n",
    "#can Hammad go to school?\n",
    "if hammad_age==age_school:\n",
    "  print(\"Hammad can join the school\")\n",
    "elif hammad_age < age_school:\n",
    "  print(\"Hammad join Kindergarten\")\n",
    "else:\n",
    "  print(\"cannot goto school\")\n",
    "\n"
   ]
  },
  {
   "cell_type": "markdown",
   "metadata": {},
   "source": [
    "### 10-Function"
   ]
  },
  {
   "cell_type": "code",
   "execution_count": null,
   "metadata": {
    "colab": {
     "base_uri": "https://localhost:8080/"
    },
    "executionInfo": {
     "elapsed": 363,
     "status": "ok",
     "timestamp": 1641131200434,
     "user": {
      "displayName": "Faiza Mehboob",
      "photoUrl": "https://lh3.googleusercontent.com/a-/AOh14Gi7BJBml3eoobMQIzcc3g3bPIpfc2DF9P2QQMY=s64",
      "userId": "04366228182199257668"
     },
     "user_tz": -300
    },
    "id": "rYxbcVqb-bpN",
    "outputId": "d13f2099-4fad-4ad2-a367-5cee16e3f71e"
   },
   "outputs": [],
   "source": [
    "# definiing a function\n",
    "def print_line():\n",
    "  print(\"We are learning with baba Aammar\")\n",
    "  print(\"We are learning with baba Aammar\")\n",
    "  print(\"We are learning with baba Aammar\")\n",
    "\n",
    "print_line()"
   ]
  },
  {
   "cell_type": "code",
   "execution_count": null,
   "metadata": {
    "colab": {
     "base_uri": "https://localhost:8080/"
    },
    "executionInfo": {
     "elapsed": 366,
     "status": "ok",
     "timestamp": 1641131000558,
     "user": {
      "displayName": "Faiza Mehboob",
      "photoUrl": "https://lh3.googleusercontent.com/a-/AOh14Gi7BJBml3eoobMQIzcc3g3bPIpfc2DF9P2QQMY=s64",
      "userId": "04366228182199257668"
     },
     "user_tz": -300
    },
    "id": "_veGaSaXA-P8",
    "outputId": "c5fdee2b-97b1-444d-d336-24d17def1b46"
   },
   "outputs": [],
   "source": [
    "#2ndway\n",
    "def dWay():\n",
    "  text=\"We are learnig with baba Aammar\"\n",
    "  print(text)\n",
    "  print(text)\n",
    "  print(text)\n",
    "dWay()"
   ]
  },
  {
   "cell_type": "code",
   "execution_count": null,
   "metadata": {
    "colab": {
     "base_uri": "https://localhost:8080/"
    },
    "executionInfo": {
     "elapsed": 366,
     "status": "ok",
     "timestamp": 1641131351662,
     "user": {
      "displayName": "Faiza Mehboob",
      "photoUrl": "https://lh3.googleusercontent.com/a-/AOh14Gi7BJBml3eoobMQIzcc3g3bPIpfc2DF9P2QQMY=s64",
      "userId": "04366228182199257668"
     },
     "user_tz": -300
    },
    "id": "oxBSRkhx-b8B",
    "outputId": "bc083097-6a64-4fa1-d198-d7c2b8dbb613"
   },
   "outputs": [],
   "source": [
    "#3rway\n",
    "def tway(text):\n",
    "  print(text)\n",
    "  print(text)\n",
    "  print(text)\n",
    "tway(\"we are learing python with baba Aammar in Codanics youtube channel\")\n",
    "\n"
   ]
  },
  {
   "cell_type": "code",
   "execution_count": null,
   "metadata": {
    "colab": {
     "base_uri": "https://localhost:8080/"
    },
    "executionInfo": {
     "elapsed": 477,
     "status": "ok",
     "timestamp": 1641131711657,
     "user": {
      "displayName": "Faiza Mehboob",
      "photoUrl": "https://lh3.googleusercontent.com/a-/AOh14Gi7BJBml3eoobMQIzcc3g3bPIpfc2DF9P2QQMY=s64",
      "userId": "04366228182199257668"
     },
     "user_tz": -300
    },
    "id": "ifyOTNd5DXj0",
    "outputId": "6a93284f-6ff0-48a4-83ae-a6bedd5ed37f"
   },
   "outputs": [],
   "source": [
    "#Function with if else elif\n",
    "def school_cal(age):\n",
    "  if age==5:\n",
    "    print(\"Hammad can join the school\")\n",
    "  elif age>5:\n",
    "    print(\"Hammad can join Higher School\")\n",
    "  else:\n",
    "    print(\"Hammad is still a baby\")\n",
    "school_cal(2)"
   ]
  },
  {
   "cell_type": "code",
   "execution_count": null,
   "metadata": {
    "colab": {
     "base_uri": "https://localhost:8080/"
    },
    "executionInfo": {
     "elapsed": 395,
     "status": "ok",
     "timestamp": 1641132245033,
     "user": {
      "displayName": "Faiza Mehboob",
      "photoUrl": "https://lh3.googleusercontent.com/a-/AOh14Gi7BJBml3eoobMQIzcc3g3bPIpfc2DF9P2QQMY=s64",
      "userId": "04366228182199257668"
     },
     "user_tz": -300
    },
    "id": "BHsbWQfYFRer",
    "outputId": "dd909be8-1f32-44e9-ec8e-6c7007c130a2"
   },
   "outputs": [],
   "source": [
    "# defining a function of future \n",
    "def future_age(age):\n",
    "  new_age=age+20\n",
    "  return new_age\n",
    "  #print(new_age)\n",
    "future_predicted_age=future_age(18)\n",
    "print(future_predicted_age)\n"
   ]
  },
  {
   "cell_type": "markdown",
   "metadata": {},
   "source": [
    "### 11-Loop"
   ]
  },
  {
   "cell_type": "code",
   "execution_count": null,
   "metadata": {
    "colab": {
     "base_uri": "https://localhost:8080/"
    },
    "executionInfo": {
     "elapsed": 360,
     "status": "ok",
     "timestamp": 1641132535830,
     "user": {
      "displayName": "Faiza Mehboob",
      "photoUrl": "https://lh3.googleusercontent.com/a-/AOh14Gi7BJBml3eoobMQIzcc3g3bPIpfc2DF9P2QQMY=s64",
      "userId": "04366228182199257668"
     },
     "user_tz": -300
    },
    "id": "6l-rTpJKHGk5",
    "outputId": "773c87e8-3f20-417d-c3a2-400b96433587"
   },
   "outputs": [],
   "source": [
    "#While and For loops\n",
    "#while Loop\n",
    "x=0\n",
    "while(x<=5):\n",
    "  print(x)\n",
    "  x=x+1"
   ]
  },
  {
   "cell_type": "code",
   "execution_count": null,
   "metadata": {
    "colab": {
     "base_uri": "https://localhost:8080/"
    },
    "executionInfo": {
     "elapsed": 389,
     "status": "ok",
     "timestamp": 1641132987986,
     "user": {
      "displayName": "Faiza Mehboob",
      "photoUrl": "https://lh3.googleusercontent.com/a-/AOh14Gi7BJBml3eoobMQIzcc3g3bPIpfc2DF9P2QQMY=s64",
      "userId": "04366228182199257668"
     },
     "user_tz": -300
    },
    "id": "n11EGBk8H0jJ",
    "outputId": "4041ee8d-c70a-4c05-a576-6310fdfc0ff5"
   },
   "outputs": [],
   "source": [
    "#For loop\n",
    "# for x in range(5, 10):\n",
    "#   print(x)\n",
    "#array\n",
    "\n",
    "days=[\"Mon\",\"Tue\",\"Wed\",\"Thur\",\"fri\", \"sat\"]\n",
    "for d in days:\n",
    "  #if (d==\"Wed\"):break\n",
    "  if (d==\"fri\"): continue #Skips d\n",
    "  print(d)"
   ]
  },
  {
   "cell_type": "markdown",
   "metadata": {},
   "source": [
    "### 12-Import Liabraries"
   ]
  },
  {
   "cell_type": "code",
   "execution_count": null,
   "metadata": {
    "colab": {
     "base_uri": "https://localhost:8080/"
    },
    "executionInfo": {
     "elapsed": 365,
     "status": "ok",
     "timestamp": 1641133229262,
     "user": {
      "displayName": "Faiza Mehboob",
      "photoUrl": "https://lh3.googleusercontent.com/a-/AOh14Gi7BJBml3eoobMQIzcc3g3bPIpfc2DF9P2QQMY=s64",
      "userId": "04366228182199257668"
     },
     "user_tz": -300
    },
    "id": "WkYWl0LIJlGp",
    "outputId": "fe83f510-7334-4270-d339-441e5e9caf47"
   },
   "outputs": [],
   "source": [
    "#if you want to printthe value of pi \n",
    "import math\n",
    "print(\"The value of PI is\", math.pi)\n",
    "\n",
    "import statistics\n",
    "x=[150,250,350,450,550]\n",
    "print(statistics.mean(x))"
   ]
  },
  {
   "cell_type": "markdown",
   "metadata": {},
   "source": [
    "### 13-TRIUBLE_SHOOTING"
   ]
  },
  {
   "cell_type": "code",
   "execution_count": null,
   "metadata": {
    "colab": {
     "base_uri": "https://localhost:8080/"
    },
    "executionInfo": {
     "elapsed": 360,
     "status": "ok",
     "timestamp": 1641133649698,
     "user": {
      "displayName": "Faiza Mehboob",
      "photoUrl": "https://lh3.googleusercontent.com/a-/AOh14Gi7BJBml3eoobMQIzcc3g3bPIpfc2DF9P2QQMY=s64",
      "userId": "04366228182199257668"
     },
     "user_tz": -300
    },
    "id": "KkiYCSraJzqT",
    "outputId": "3c395570-5dfb-4bc2-e6e7-22da419799ba"
   },
   "outputs": [],
   "source": [
    "\n",
    "#print(\"Here) syntaxEror\n",
    "\n",
    "#print(25/0) #runTimeError\n",
    "\n",
    "name=(\"Ahmed\")\n",
    "#print(\"Hello name\") #semantic error will not print name\n",
    "print(\"Hello \", name)"
   ]
  },
  {
   "cell_type": "markdown",
   "metadata": {},
   "source": [
    "## Basic Data Structures in Python\n",
    "- Tuple\n",
    "- list\n",
    "- Dictionaries\n",
    "- Set "
   ]
  },
  {
   "cell_type": "markdown",
   "metadata": {},
   "source": [
    "## Tuple\n",
    "- ordered collections of element\n",
    "- inclosed in braces ()\n",
    "- can store differnt types of elements\n",
    "- Once elemnts are stored it cannot be changed(ummutatable)\n",
    " "
   ]
  },
  {
   "cell_type": "code",
   "execution_count": null,
   "metadata": {},
   "outputs": [],
   "source": [
    "tup1=(1, \"Python\", 3, True)\n",
    "tup1\n",
    "\n",
    "#TYPE\n",
    "type(tup1)"
   ]
  },
  {
   "cell_type": "markdown",
   "metadata": {},
   "source": [
    "### Indexing in Tuple"
   ]
  },
  {
   "cell_type": "code",
   "execution_count": null,
   "metadata": {},
   "outputs": [],
   "source": [
    "tup1[1]"
   ]
  },
  {
   "cell_type": "code",
   "execution_count": null,
   "metadata": {},
   "outputs": [],
   "source": [
    "tup1[2]"
   ]
  },
  {
   "cell_type": "code",
   "execution_count": null,
   "metadata": {},
   "outputs": [],
   "source": [
    "#last element is exclusive\n",
    "tup1[0:3]"
   ]
  },
  {
   "cell_type": "code",
   "execution_count": null,
   "metadata": {},
   "outputs": [],
   "source": [
    "len(tup1)"
   ]
  },
  {
   "cell_type": "code",
   "execution_count": null,
   "metadata": {},
   "outputs": [],
   "source": [
    "tup2=(2,\"baba aammar\", 3.5, False)\n",
    "tup2"
   ]
  },
  {
   "cell_type": "code",
   "execution_count": null,
   "metadata": {},
   "outputs": [],
   "source": [
    "# Concatinating Tuples(adding tuples)\n",
    "tup1+tup2"
   ]
  },
  {
   "cell_type": "code",
   "execution_count": null,
   "metadata": {},
   "outputs": [],
   "source": [
    "tup1*3+tup2"
   ]
  },
  {
   "cell_type": "code",
   "execution_count": null,
   "metadata": {},
   "outputs": [],
   "source": [
    "tup1*3"
   ]
  },
  {
   "cell_type": "code",
   "execution_count": null,
   "metadata": {},
   "outputs": [],
   "source": [
    "tup3=(20,30,40,45,65)\n",
    "tup3"
   ]
  },
  {
   "cell_type": "code",
   "execution_count": null,
   "metadata": {},
   "outputs": [],
   "source": [
    "min(tup3)"
   ]
  },
  {
   "cell_type": "code",
   "execution_count": null,
   "metadata": {},
   "outputs": [],
   "source": [
    "max(tup3)"
   ]
  },
  {
   "cell_type": "markdown",
   "metadata": {},
   "source": [
    "### LIST \n",
    "- oreddered collection of elements\n",
    "- inclosed in suqare brackets [] \n",
    "- we can change elements(mutatable)"
   ]
  },
  {
   "cell_type": "code",
   "execution_count": null,
   "metadata": {},
   "outputs": [],
   "source": [
    "list1=[2, \"baba ammar\", False] \n",
    "list"
   ]
  },
  {
   "cell_type": "code",
   "execution_count": null,
   "metadata": {},
   "outputs": [],
   "source": [
    "len(list1)"
   ]
  },
  {
   "cell_type": "code",
   "execution_count": null,
   "metadata": {},
   "outputs": [],
   "source": [
    "list1[2]"
   ]
  },
  {
   "cell_type": "code",
   "execution_count": null,
   "metadata": {},
   "outputs": [],
   "source": [
    "list2=[\"Ahmed\",3, 5, \"yes\", False]\n",
    "list2"
   ]
  },
  {
   "cell_type": "code",
   "execution_count": null,
   "metadata": {},
   "outputs": [],
   "source": [
    "list1+list2"
   ]
  },
  {
   "cell_type": "code",
   "execution_count": null,
   "metadata": {},
   "outputs": [],
   "source": [
    "list1*2"
   ]
  },
  {
   "cell_type": "code",
   "execution_count": null,
   "metadata": {},
   "outputs": [],
   "source": [
    "list1.reverse()\n",
    "list1"
   ]
  },
  {
   "cell_type": "code",
   "execution_count": null,
   "metadata": {},
   "outputs": [],
   "source": [
    "list1.append(\"Codanics Youtube channel\")\n",
    "list1"
   ]
  },
  {
   "cell_type": "code",
   "execution_count": null,
   "metadata": {},
   "outputs": [],
   "source": [
    "list1=[\"maths\", 3, \"Eng\"]\n",
    "list1.extend(\"B\")\n",
    "list1"
   ]
  },
  {
   "cell_type": "code",
   "execution_count": null,
   "metadata": {},
   "outputs": [],
   "source": [
    "list1.insert(1, \"me\")\n",
    "list1"
   ]
  },
  {
   "cell_type": "code",
   "execution_count": null,
   "metadata": {},
   "outputs": [],
   "source": [
    "list=[2,5,3,6,8]\n",
    "list.sort()\n",
    "list"
   ]
  },
  {
   "cell_type": "code",
   "execution_count": null,
   "metadata": {},
   "outputs": [],
   "source": [
    "list.pop(2)\n",
    "list\n"
   ]
  },
  {
   "cell_type": "code",
   "execution_count": null,
   "metadata": {},
   "outputs": [],
   "source": [
    "list.reverse()\n",
    "list\n"
   ]
  },
  {
   "cell_type": "code",
   "execution_count": null,
   "metadata": {},
   "outputs": [],
   "source": [
    "list3=[20, 30, 56,76,78,89,90]\n",
    "len(list3)"
   ]
  },
  {
   "cell_type": "code",
   "execution_count": null,
   "metadata": {},
   "outputs": [],
   "source": [
    "list3.sort()\n",
    "list3"
   ]
  },
  {
   "cell_type": "code",
   "execution_count": null,
   "metadata": {},
   "outputs": [],
   "source": [
    "list1+list2"
   ]
  },
  {
   "cell_type": "code",
   "execution_count": null,
   "metadata": {},
   "outputs": [],
   "source": [
    "list1 = [5,6,7,2,5,7,8,7,9]\n",
    "print(list1.count(7))\n",
    "\n",
    "\n",
    "list3 = [\"Eclairs\", \"DairyMilk\", \"Eclairs\", \"kitkat\", \"Now\", \"Eclairs\"]\n",
    "print(list3.count(\"Eclarirs\"))"
   ]
  },
  {
   "cell_type": "markdown",
   "metadata": {},
   "source": [
    "## Dictionaries\n",
    "- An ordered collection of elements\n",
    "- {} use this curly braces\n",
    "- can change value(mutateble)"
   ]
  },
  {
   "cell_type": "code",
   "execution_count": null,
   "metadata": {},
   "outputs": [],
   "source": [
    "#Food and their prices\n",
    "food = {\"samosa\":30, \"Raita\":20, \"Pakora\":100, \"Salad\":50, \"Chicken Rolls\":30}\n",
    "food"
   ]
  },
  {
   "cell_type": "code",
   "execution_count": null,
   "metadata": {},
   "outputs": [],
   "source": [
    "type(food)"
   ]
  },
  {
   "cell_type": "code",
   "execution_count": null,
   "metadata": {},
   "outputs": [],
   "source": [
    "keys1 = food.keys()\n",
    "keys1"
   ]
  },
  {
   "cell_type": "code",
   "execution_count": null,
   "metadata": {},
   "outputs": [],
   "source": [
    "value1=food.values()\n",
    "value1"
   ]
  },
  {
   "cell_type": "code",
   "execution_count": null,
   "metadata": {},
   "outputs": [],
   "source": [
    "\n",
    "food[\"Tikke\"]=10\n",
    "food"
   ]
  },
  {
   "cell_type": "code",
   "execution_count": null,
   "metadata": {},
   "outputs": [],
   "source": [
    "#Update the value\n",
    "food[\"Tikki\"]=15\n",
    "food"
   ]
  },
  {
   "cell_type": "code",
   "execution_count": null,
   "metadata": {},
   "outputs": [],
   "source": [
    "food2={\"Dates\":50, \"Mangoes\": 200, \" Chocoloates\":100}\n",
    "food2"
   ]
  },
  {
   "cell_type": "code",
   "execution_count": null,
   "metadata": {},
   "outputs": [],
   "source": [
    "food.update(food2)\n",
    "food"
   ]
  },
  {
   "cell_type": "code",
   "execution_count": null,
   "metadata": {},
   "outputs": [],
   "source": [
    "mobile = {\"nokia\" \"samsubg\", \"oppo\", \"vivo\", \"Q\"}\n",
    "mobile.clear()\n",
    "mobile"
   ]
  },
  {
   "cell_type": "code",
   "execution_count": null,
   "metadata": {},
   "outputs": [],
   "source": [
    "mobile = {\"nokia\":10, \"samsung\":20 , \"oppo\":30, \"vivo\":40, \"Q\":50}\n",
    "mobile.clear()\n",
    "mobile"
   ]
  },
  {
   "cell_type": "code",
   "execution_count": null,
   "metadata": {},
   "outputs": [],
   "source": [
    "mobile = {2,5,3,7,8,9,4,5}\n",
    "a=mobile.copy()\n",
    "a"
   ]
  },
  {
   "cell_type": "code",
   "execution_count": null,
   "metadata": {},
   "outputs": [],
   "source": [
    "mobile = {\"nokia\":10, \"samsung\":20 , \"oppo\":30, \"vivo\":40, \"Q\":50}\n",
    "a=mobile.get(\"nokia\")\n",
    "a"
   ]
  },
  {
   "cell_type": "code",
   "execution_count": null,
   "metadata": {},
   "outputs": [],
   "source": [
    "mobile = {\"nokia\":10, \"samsung\":20 , \"oppo\":30, \"vivo\":40, \"Q\":50}\n",
    "a=mobile.items()\n",
    "a\n"
   ]
  },
  {
   "cell_type": "code",
   "execution_count": null,
   "metadata": {},
   "outputs": [],
   "source": [
    "mobile = {\"nokia\":\"one\", \"samsung\":\"two\" , \"oppo\":\"three\", \"vivo\":\"four\", \"Q\":\"five\"}\n",
    "a=mobile.setdefault(\"oppo\", \"Done\")\n",
    "a"
   ]
  },
  {
   "cell_type": "markdown",
   "metadata": {},
   "source": [
    "### SETS \n",
    "- unordered aand uninidexed\n",
    "- curly brace{}\n",
    "- no duplicates"
   ]
  },
  {
   "cell_type": "code",
   "execution_count": null,
   "metadata": {},
   "outputs": [],
   "source": [
    "s1={1, 2.2, 3, \"Ahmed\",\"chocolates\", \"Hyderabad\", True}\n",
    "s1"
   ]
  },
  {
   "cell_type": "markdown",
   "metadata": {},
   "source": [
    "### Different Functions of Set\n"
   ]
  },
  {
   "cell_type": "code",
   "execution_count": null,
   "metadata": {},
   "outputs": [],
   "source": [
    "s1.add(5)"
   ]
  },
  {
   "cell_type": "code",
   "execution_count": null,
   "metadata": {},
   "outputs": [],
   "source": [
    "s1={1, 2.2, 3, \"Ahmed\",\"chocolates\", \"Hyderabad\", True}\n",
    "s2={1, 4, 3, \"Ahmed\",\"cakes\", \"karcahi\", True}\n",
    "s1.difference(s2)\n",
    "s1"
   ]
  },
  {
   "cell_type": "code",
   "execution_count": null,
   "metadata": {},
   "outputs": [],
   "source": [
    "s1={1, 2.2, 3, \"Ahmed\",\"chocolates\", \"Hyderabad\", True}\n",
    "s1.remove(\"Hyderabad\")\n",
    "s1"
   ]
  },
  {
   "cell_type": "code",
   "execution_count": null,
   "metadata": {},
   "outputs": [],
   "source": [
    "s2={1, 4, 3, \"Ahmed\",\"cakes\", \"karcahi\", True}\n",
    "s2.remove(4)\n",
    "s2"
   ]
  },
  {
   "cell_type": "code",
   "execution_count": null,
   "metadata": {},
   "outputs": [],
   "source": [
    "s1={1, 2, 3,4, 5}\n",
    "s2={1, 4, 3, 5,7,8,9}\n",
    "s1.intersection()\n",
    "s1"
   ]
  },
  {
   "cell_type": "code",
   "execution_count": null,
   "metadata": {},
   "outputs": [],
   "source": [
    "s1={1, 2, 3,4, 5}\n",
    "s2={1, 4, 3, 5,7,8,9}\n",
    "s2.isdisjoint(s1)\n",
    "s2"
   ]
  },
  {
   "cell_type": "code",
   "execution_count": null,
   "metadata": {},
   "outputs": [],
   "source": [
    "s1={1, 2, 3,4, 5}\n",
    "s2={1, 4, 3, 5,7,8,9}\n",
    "s3=s1.issubset(s2)\n",
    "s3"
   ]
  },
  {
   "cell_type": "code",
   "execution_count": null,
   "metadata": {},
   "outputs": [],
   "source": [
    "s1={1, 2, 3,4, 5}\n",
    "s2={1,2, 4, 3, 5,7,8,9}\n",
    "s3=s2.symmetric_difference(s1)\n",
    "s3"
   ]
  },
  {
   "cell_type": "code",
   "execution_count": null,
   "metadata": {},
   "outputs": [],
   "source": [
    "s1={1, 2, 3,4, 5}\n",
    "s2={1, 4, 3, 5,7,8,9}\n",
    "s3=s1.union(s2)\n",
    "s3"
   ]
  },
  {
   "cell_type": "code",
   "execution_count": null,
   "metadata": {},
   "outputs": [],
   "source": [
    "s1={1, 3, 5,7, 9}\n",
    "s2={2, 4, 6, 8}\n",
    "s2.update(s1)\n",
    "s2"
   ]
  },
  {
   "cell_type": "markdown",
   "metadata": {},
   "source": []
  },
  {
   "cell_type": "markdown",
   "metadata": {},
   "source": [
    "# TASK : ADD YOUR 2 small programs here\n",
    "For example:\n",
    "\n",
    "* Calculator\n",
    "* Guess the Number\n",
    "* Unit Converter\n",
    "* BMI Calculator:\n",
    "* Basic Quiz App: \n",
    "* Basic Chatbot"
   ]
  },
  {
   "cell_type": "markdown",
   "metadata": {},
   "source": [
    "## By Arthur Nweke-Uchebo"
   ]
  },
  {
   "cell_type": "code",
   "execution_count": 2,
   "metadata": {},
   "outputs": [
    {
     "name": "stdout",
     "output_type": "stream",
     "text": [
      "Select an Operation\n",
      "1 - Additon\n",
      "2 - Subtraction\n",
      "3 - Division\n",
      "4 - Multiplication\n",
      "Invalid Input\n",
      "Invalid Input\n",
      "45.0 / 56.0 = 0.8035714285714286\n"
     ]
    }
   ],
   "source": [
    "#Simple_calculator\n",
    "\n",
    "# This function adds two numbers\n",
    "def add(x, y):\n",
    "    return x + y\n",
    "\n",
    "# This function subtracts two numbers\n",
    "def subtract(x, y):\n",
    "    return x - y\n",
    "\n",
    "# This function divides two numbers\n",
    "def divide(x, y):\n",
    "    return x / y\n",
    "\n",
    "# This function multiplies two numbers\n",
    "def multiply(x, y):\n",
    "    return x * y\n",
    "\n",
    "print(\"Select an Operation\")\n",
    "print(\"1 - Additon\")\n",
    "print(\"2 - Subtraction\")\n",
    "print(\"3 - Division\")\n",
    "print(\"4 - Multiplication\")\n",
    "\n",
    "while True:\n",
    "    # take input from the user\n",
    "    choice = input(\"Choose an operation (1/2/3/4): \")\n",
    "\n",
    "    #check if the choice is one of the four options\n",
    "    if choice in ('1', '2','3', '4'):\n",
    "        try:\n",
    "            num_1 = float(input(\"Enter first number: \"))\n",
    "            num_2 = float(input(\"Enter second number: \"))\n",
    "        except ValueError:\n",
    "            print(\"Invalid Input, Kindly Enter a number\")\n",
    "            continue\n",
    "\n",
    "        if choice == '1':\n",
    "            print(num_1, '+', num_2, '=', add(num_1, num_2))\n",
    "            \n",
    "        elif choice == '2':\n",
    "            print(num_1, '-', num_2, '=', subtract(num_1, num_2))\n",
    "        \n",
    "        elif choice == '3':\n",
    "            print(num_1, '/', num_2, '=', divide(num_1, num_2))\n",
    "        \n",
    "        elif choice == '4':\n",
    "            print(num_1, '*', num_2, '=', multiply(num_1, num_2))\n",
    "\n",
    "        #check if user wants to perfoerm another calculation\n",
    "        #break the while loop if the answer is \"no\"\n",
    "\n",
    "        next_calculation = input(\"Let's perform another calculation?: (yes/no)\")\n",
    "        if next_calculation == 'no':\n",
    "            break\n",
    "    else:\n",
    "        print(\"Invalid Input\")\n",
    "\n",
    "        "
   ]
  }
 ],
 "metadata": {
  "interpreter": {
   "hash": "c77235ce7b9e18694fb9c32b8bddc25f7d1e1c2ceb7781d526098ac1d2cb6caf"
  },
  "kernelspec": {
   "display_name": "Python 3.10.2 64-bit",
   "language": "python",
   "name": "python3"
  },
  "language_info": {
   "codemirror_mode": {
    "name": "ipython",
    "version": 3
   },
   "file_extension": ".py",
   "mimetype": "text/x-python",
   "name": "python",
   "nbconvert_exporter": "python",
   "pygments_lexer": "ipython3",
   "version": "3.11.4"
  },
  "orig_nbformat": 4
 },
 "nbformat": 4,
 "nbformat_minor": 2
}
