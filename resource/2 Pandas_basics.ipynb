{
 "cells": [
  {
   "cell_type": "markdown",
   "metadata": {},
   "source": [
    "Original notebook link: https://www.kaggle.com/code/rajmehra03/a-complete-pandas-tutorial/notebook"
   ]
  },
  {
   "cell_type": "markdown",
   "id": "9c77857a",
   "metadata": {
    "papermill": {
     "duration": 0.027332,
     "end_time": "2022-08-23T14:02:33.373629",
     "exception": false,
     "start_time": "2022-08-23T14:02:33.346297",
     "status": "completed"
    },
    "tags": []
   },
   "source": [
    "# Complete Guide to Pandas.\n",
    "\n",
    "Hi All ✌️, writing an article on Kaggle after a very long time. \n",
    "\n",
    "In this one I try to cover all the basic **Pandas** operations. \n",
    "\n",
    "<!-- For this, I will use the Titanic dataset. I have added a few more data sources so that the kernel reaches the mass and also you can run it on those datasets without much change. -->\n",
    "\n",
    "Hope you find it useful, and if you do, make sure to drop a 👍."
   ]
  },
  {
   "cell_type": "code",
   "execution_count": null,
   "id": "92ee8cae",
   "metadata": {
    "papermill": {
     "duration": 0.024768,
     "end_time": "2022-08-23T14:02:33.423683",
     "exception": false,
     "start_time": "2022-08-23T14:02:33.398915",
     "status": "completed"
    },
    "tags": []
   },
   "outputs": [],
   "source": []
  },
  {
   "cell_type": "markdown",
   "id": "b1a36680",
   "metadata": {
    "papermill": {
     "duration": 0.02491,
     "end_time": "2022-08-23T14:02:33.473679",
     "exception": false,
     "start_time": "2022-08-23T14:02:33.448769",
     "status": "completed"
    },
    "tags": []
   },
   "source": [
    "## Table of Contents(ToC):\n",
    "\n",
    "#### 1. [The Basics](#content1)\n",
    "\n",
    "#### 2. [Creating DataFrame](#content2)\n",
    "\n",
    "#### 3. [Treating null values](#content3)\n",
    "\n",
    "#### 4. [Modify/Add new column(s).](#content4)\n",
    "\n",
    "#### 5. [Deleting columns](#content5)\n",
    "\n",
    "#### 6. [Renaming columns](#content6)\n",
    "\n",
    "#### 7.i. [Slicing DataFrame](#content7)\n",
    "\n",
    "#### 7.ii. [Slicing using iloc and loc](#content8)\n",
    "\n",
    "#### 8. [Adding a row](#content9)\n",
    "\n",
    "#### 9. [Dropping row(s)](#content10)\n",
    "\n",
    "#### 10. [Sorting](#content11)\n",
    "\n",
    "#### 11. [Joins](#content12)\n",
    "\n",
    "#### 12. [Groupby](#content13)"
   ]
  },
  {
   "cell_type": "code",
   "execution_count": null,
   "id": "71656f52",
   "metadata": {
    "papermill": {
     "duration": 0.025278,
     "end_time": "2022-08-23T14:02:33.524415",
     "exception": false,
     "start_time": "2022-08-23T14:02:33.499137",
     "status": "completed"
    },
    "tags": []
   },
   "outputs": [],
   "source": []
  },
  {
   "cell_type": "markdown",
   "id": "3d2a1e15",
   "metadata": {
    "papermill": {
     "duration": 0.025405,
     "end_time": "2022-08-23T14:02:33.576148",
     "exception": false,
     "start_time": "2022-08-23T14:02:33.550743",
     "status": "completed"
    },
    "tags": []
   },
   "source": [
    "#### Importing modules."
   ]
  },
  {
   "cell_type": "code",
   "execution_count": null,
   "id": "8e1d629f",
   "metadata": {
    "_cell_guid": "b1076dfc-b9ad-4769-8c92-a6c4dae69d19",
    "_uuid": "8f2839f25d086af736a60e9eeb907d3b93b6e0e5",
    "execution": {
     "iopub.execute_input": "2022-08-23T14:02:33.632652Z",
     "iopub.status.busy": "2022-08-23T14:02:33.632198Z",
     "iopub.status.idle": "2022-08-23T14:02:33.643646Z",
     "shell.execute_reply": "2022-08-23T14:02:33.642834Z"
    },
    "papermill": {
     "duration": 0.040457,
     "end_time": "2022-08-23T14:02:33.645813",
     "exception": false,
     "start_time": "2022-08-23T14:02:33.605356",
     "status": "completed"
    },
    "tags": []
   },
   "outputs": [],
   "source": [
    "import numpy as np # linear algebra\n",
    "import pandas as pd # data processing, CSV file I/O (e.g. pd.read_csv)"
   ]
  },
  {
   "cell_type": "markdown",
   "id": "3adcc4ba",
   "metadata": {
    "papermill": {
     "duration": 0.026459,
     "end_time": "2022-08-23T14:02:33.755031",
     "exception": false,
     "start_time": "2022-08-23T14:02:33.728572",
     "status": "completed"
    },
    "tags": []
   },
   "source": [
    "#### Importing data.\n",
    "\n",
    "For this tutorial, we will use the standard Titanic Dataset."
   ]
  },
  {
   "cell_type": "code",
   "execution_count": null,
   "id": "8cfe02d7",
   "metadata": {
    "execution": {
     "iopub.execute_input": "2022-08-23T14:02:33.811426Z",
     "iopub.status.busy": "2022-08-23T14:02:33.810597Z",
     "iopub.status.idle": "2022-08-23T14:02:33.832675Z",
     "shell.execute_reply": "2022-08-23T14:02:33.831493Z"
    },
    "papermill": {
     "duration": 0.054678,
     "end_time": "2022-08-23T14:02:33.835383",
     "exception": false,
     "start_time": "2022-08-23T14:02:33.780705",
     "status": "completed"
    },
    "tags": []
   },
   "outputs": [],
   "source": [
    "dataset=pd.read_csv(r'titanic.csv')\n",
    "df=dataset.copy()   # make a copy of your dataset so then your original dataset will remain safe and you can quickly copy again"
   ]
  },
  {
   "cell_type": "markdown",
   "id": "c478f92e",
   "metadata": {
    "papermill": {
     "duration": 0.025149,
     "end_time": "2022-08-23T14:02:33.887099",
     "exception": false,
     "start_time": "2022-08-23T14:02:33.861950",
     "status": "completed"
    },
    "tags": []
   },
   "source": [
    "<a id=\"content1\"></a>\n",
    "## 1. The Basics"
   ]
  },
  {
   "cell_type": "code",
   "execution_count": null,
   "id": "48656907",
   "metadata": {
    "execution": {
     "iopub.execute_input": "2022-08-23T14:02:33.943600Z",
     "iopub.status.busy": "2022-08-23T14:02:33.942471Z",
     "iopub.status.idle": "2022-08-23T14:02:33.972181Z",
     "shell.execute_reply": "2022-08-23T14:02:33.971011Z"
    },
    "papermill": {
     "duration": 0.062819,
     "end_time": "2022-08-23T14:02:33.975547",
     "exception": false,
     "start_time": "2022-08-23T14:02:33.912728",
     "status": "completed"
    },
    "tags": []
   },
   "outputs": [],
   "source": [
    "# See the first 5 rows\n",
    "df.head()"
   ]
  },
  {
   "cell_type": "code",
   "execution_count": null,
   "id": "7c1257fb",
   "metadata": {
    "execution": {
     "iopub.execute_input": "2022-08-23T14:02:34.046083Z",
     "iopub.status.busy": "2022-08-23T14:02:34.045725Z",
     "iopub.status.idle": "2022-08-23T14:02:34.061687Z",
     "shell.execute_reply": "2022-08-23T14:02:34.060507Z"
    },
    "papermill": {
     "duration": 0.049417,
     "end_time": "2022-08-23T14:02:34.064199",
     "exception": false,
     "start_time": "2022-08-23T14:02:34.014782",
     "status": "completed"
    },
    "tags": []
   },
   "outputs": [],
   "source": [
    "# last 5 rows.\n",
    "df.tail()"
   ]
  },
  {
   "cell_type": "code",
   "execution_count": null,
   "id": "17f2e328",
   "metadata": {
    "execution": {
     "iopub.execute_input": "2022-08-23T14:02:34.118708Z",
     "iopub.status.busy": "2022-08-23T14:02:34.117437Z",
     "iopub.status.idle": "2022-08-23T14:02:34.124705Z",
     "shell.execute_reply": "2022-08-23T14:02:34.123760Z"
    },
    "papermill": {
     "duration": 0.03692,
     "end_time": "2022-08-23T14:02:34.126917",
     "exception": false,
     "start_time": "2022-08-23T14:02:34.089997",
     "status": "completed"
    },
    "tags": []
   },
   "outputs": [],
   "source": [
    "# n_samples x n_features (features/columns/TASK 1: add more here if you know and push to githoub by creating Pull Request!)\n",
    "df.shape"
   ]
  },
  {
   "cell_type": "code",
   "execution_count": null,
   "id": "0c89021f",
   "metadata": {
    "execution": {
     "iopub.execute_input": "2022-08-23T14:02:34.181006Z",
     "iopub.status.busy": "2022-08-23T14:02:34.179917Z",
     "iopub.status.idle": "2022-08-23T14:02:34.186030Z",
     "shell.execute_reply": "2022-08-23T14:02:34.185302Z"
    },
    "papermill": {
     "duration": 0.035245,
     "end_time": "2022-08-23T14:02:34.188024",
     "exception": false,
     "start_time": "2022-08-23T14:02:34.152779",
     "status": "completed"
    },
    "tags": []
   },
   "outputs": [],
   "source": [
    "#List of all the columns\n",
    "df.columns"
   ]
  },
  {
   "cell_type": "code",
   "execution_count": null,
   "id": "c194e330",
   "metadata": {
    "execution": {
     "iopub.execute_input": "2022-08-23T14:02:34.242477Z",
     "iopub.status.busy": "2022-08-23T14:02:34.241760Z",
     "iopub.status.idle": "2022-08-23T14:02:34.247557Z",
     "shell.execute_reply": "2022-08-23T14:02:34.246756Z"
    },
    "papermill": {
     "duration": 0.035231,
     "end_time": "2022-08-23T14:02:34.249518",
     "exception": false,
     "start_time": "2022-08-23T14:02:34.214287",
     "status": "completed"
    },
    "tags": []
   },
   "outputs": [],
   "source": [
    "# Rows index\n",
    "df.index"
   ]
  },
  {
   "cell_type": "code",
   "execution_count": null,
   "id": "aca41fa3",
   "metadata": {
    "execution": {
     "iopub.execute_input": "2022-08-23T14:02:34.303797Z",
     "iopub.status.busy": "2022-08-23T14:02:34.303117Z",
     "iopub.status.idle": "2022-08-23T14:02:34.315601Z",
     "shell.execute_reply": "2022-08-23T14:02:34.314493Z"
    },
    "papermill": {
     "duration": 0.042498,
     "end_time": "2022-08-23T14:02:34.318019",
     "exception": false,
     "start_time": "2022-08-23T14:02:34.275521",
     "status": "completed"
    },
    "tags": []
   },
   "outputs": [],
   "source": [
    "# Values with their counts in a particular column\n",
    "df['Pclass'].value_counts()"
   ]
  },
  {
   "cell_type": "code",
   "execution_count": null,
   "id": "7ef75770",
   "metadata": {
    "execution": {
     "iopub.execute_input": "2022-08-23T14:02:34.373662Z",
     "iopub.status.busy": "2022-08-23T14:02:34.373000Z",
     "iopub.status.idle": "2022-08-23T14:02:34.409785Z",
     "shell.execute_reply": "2022-08-23T14:02:34.408738Z"
    },
    "papermill": {
     "duration": 0.067161,
     "end_time": "2022-08-23T14:02:34.412201",
     "exception": false,
     "start_time": "2022-08-23T14:02:34.345040",
     "status": "completed"
    },
    "tags": []
   },
   "outputs": [],
   "source": [
    "# General description of dataset.\n",
    "df.describe()"
   ]
  },
  {
   "cell_type": "code",
   "execution_count": null,
   "id": "5d0d56e2",
   "metadata": {
    "papermill": {
     "duration": 0.026043,
     "end_time": "2022-08-23T14:02:34.464907",
     "exception": false,
     "start_time": "2022-08-23T14:02:34.438864",
     "status": "completed"
    },
    "tags": []
   },
   "outputs": [],
   "source": []
  },
  {
   "cell_type": "markdown",
   "id": "7b40fc8a",
   "metadata": {
    "papermill": {
     "duration": 0.026839,
     "end_time": "2022-08-23T14:02:34.518509",
     "exception": false,
     "start_time": "2022-08-23T14:02:34.491670",
     "status": "completed"
    },
    "tags": []
   },
   "source": [
    "<a id=\"content2\"></a>\n",
    "## 2. Creating DataFrame"
   ]
  },
  {
   "cell_type": "code",
   "execution_count": null,
   "id": "64b74cb0",
   "metadata": {
    "execution": {
     "iopub.execute_input": "2022-08-23T14:02:34.574788Z",
     "iopub.status.busy": "2022-08-23T14:02:34.573983Z",
     "iopub.status.idle": "2022-08-23T14:02:34.583012Z",
     "shell.execute_reply": "2022-08-23T14:02:34.582122Z"
    },
    "papermill": {
     "duration": 0.039445,
     "end_time": "2022-08-23T14:02:34.585212",
     "exception": false,
     "start_time": "2022-08-23T14:02:34.545767",
     "status": "completed"
    },
    "tags": []
   },
   "outputs": [],
   "source": [
    "# empty data frame\n",
    "df_empty=pd.DataFrame()\n",
    "df_empty.head()  # ;)"
   ]
  },
  {
   "cell_type": "code",
   "execution_count": null,
   "id": "4fb0b9d5",
   "metadata": {
    "execution": {
     "iopub.execute_input": "2022-08-23T14:02:34.641358Z",
     "iopub.status.busy": "2022-08-23T14:02:34.640562Z",
     "iopub.status.idle": "2022-08-23T14:02:34.653353Z",
     "shell.execute_reply": "2022-08-23T14:02:34.652303Z"
    },
    "papermill": {
     "duration": 0.043672,
     "end_time": "2022-08-23T14:02:34.655645",
     "exception": false,
     "start_time": "2022-08-23T14:02:34.611973",
     "status": "completed"
    },
    "tags": []
   },
   "outputs": [],
   "source": [
    "# From dict (create df from a dictionary)\n",
    "student_dict={'Name':['A','B','C'],'Age':[24,18,17],'Roll':[1,2,3]}\n",
    "df_student=pd.DataFrame(student_dict).reset_index(drop=True) # without this adds an additional index column in df\n",
    "df_student.head()"
   ]
  },
  {
   "cell_type": "code",
   "execution_count": null,
   "id": "9b6c80da",
   "metadata": {
    "papermill": {
     "duration": 0.027486,
     "end_time": "2022-08-23T14:02:34.711066",
     "exception": false,
     "start_time": "2022-08-23T14:02:34.683580",
     "status": "completed"
    },
    "tags": []
   },
   "outputs": [],
   "source": []
  },
  {
   "cell_type": "markdown",
   "id": "91452483",
   "metadata": {
    "papermill": {
     "duration": 0.026961,
     "end_time": "2022-08-23T14:02:34.765755",
     "exception": false,
     "start_time": "2022-08-23T14:02:34.738794",
     "status": "completed"
    },
    "tags": []
   },
   "source": [
    "<a id=\"content3\"></a>\n",
    "## 3. Treating null values"
   ]
  },
  {
   "cell_type": "code",
   "execution_count": null,
   "id": "075d59de",
   "metadata": {
    "execution": {
     "iopub.execute_input": "2022-08-23T14:02:34.822246Z",
     "iopub.status.busy": "2022-08-23T14:02:34.821834Z",
     "iopub.status.idle": "2022-08-23T14:02:34.838099Z",
     "shell.execute_reply": "2022-08-23T14:02:34.837027Z"
    },
    "papermill": {
     "duration": 0.047388,
     "end_time": "2022-08-23T14:02:34.840552",
     "exception": false,
     "start_time": "2022-08-23T14:02:34.793164",
     "status": "completed"
    },
    "tags": []
   },
   "outputs": [],
   "source": [
    "df.head()"
   ]
  },
  {
   "cell_type": "code",
   "execution_count": null,
   "id": "ce598eb0",
   "metadata": {
    "execution": {
     "iopub.execute_input": "2022-08-23T14:02:34.897773Z",
     "iopub.status.busy": "2022-08-23T14:02:34.897051Z",
     "iopub.status.idle": "2022-08-23T14:02:34.905529Z",
     "shell.execute_reply": "2022-08-23T14:02:34.904734Z"
    },
    "papermill": {
     "duration": 0.038961,
     "end_time": "2022-08-23T14:02:34.907516",
     "exception": false,
     "start_time": "2022-08-23T14:02:34.868555",
     "status": "completed"
    },
    "tags": []
   },
   "outputs": [],
   "source": [
    "# check number of null values on whole df.\n",
    "df.isnull().sum()"
   ]
  },
  {
   "cell_type": "code",
   "execution_count": null,
   "id": "fb416185",
   "metadata": {
    "execution": {
     "iopub.execute_input": "2022-08-23T14:02:34.964014Z",
     "iopub.status.busy": "2022-08-23T14:02:34.963290Z",
     "iopub.status.idle": "2022-08-23T14:02:34.969840Z",
     "shell.execute_reply": "2022-08-23T14:02:34.969083Z"
    },
    "papermill": {
     "duration": 0.037425,
     "end_time": "2022-08-23T14:02:34.971813",
     "exception": false,
     "start_time": "2022-08-23T14:02:34.934388",
     "status": "completed"
    },
    "tags": []
   },
   "outputs": [],
   "source": [
    "# check nulls on a particular column\n",
    "df['Age'].isnull().sum()"
   ]
  },
  {
   "cell_type": "markdown",
   "id": "e7f38014",
   "metadata": {
    "papermill": {
     "duration": 0.026652,
     "end_time": "2022-08-23T14:02:35.025598",
     "exception": false,
     "start_time": "2022-08-23T14:02:34.998946",
     "status": "completed"
    },
    "tags": []
   },
   "source": [
    "#### Impute null values"
   ]
  },
  {
   "cell_type": "markdown",
   "metadata": {},
   "source": [
    "IF YOU WON'T put 'inplace=True' then your dataset won't get affected with te newwst change."
   ]
  },
  {
   "cell_type": "code",
   "execution_count": null,
   "id": "e4b8cf5e",
   "metadata": {
    "execution": {
     "iopub.execute_input": "2022-08-23T14:02:35.081522Z",
     "iopub.status.busy": "2022-08-23T14:02:35.080806Z",
     "iopub.status.idle": "2022-08-23T14:02:35.088602Z",
     "shell.execute_reply": "2022-08-23T14:02:35.087695Z"
    },
    "papermill": {
     "duration": 0.038201,
     "end_time": "2022-08-23T14:02:35.090626",
     "exception": false,
     "start_time": "2022-08-23T14:02:35.052425",
     "status": "completed"
    },
    "tags": []
   },
   "outputs": [],
   "source": [
    "df['Age'].fillna(df['Age'].mean(),inplace=True) # in this line we are imputing mean value to null values\n",
    "df['Age'].isnull().sum()"
   ]
  },
  {
   "cell_type": "code",
   "execution_count": null,
   "id": "69028df1",
   "metadata": {
    "execution": {
     "iopub.execute_input": "2022-08-23T14:02:35.146935Z",
     "iopub.status.busy": "2022-08-23T14:02:35.146245Z",
     "iopub.status.idle": "2022-08-23T14:02:35.154267Z",
     "shell.execute_reply": "2022-08-23T14:02:35.153487Z"
    },
    "papermill": {
     "duration": 0.038354,
     "end_time": "2022-08-23T14:02:35.156218",
     "exception": false,
     "start_time": "2022-08-23T14:02:35.117864",
     "status": "completed"
    },
    "tags": []
   },
   "outputs": [],
   "source": [
    "df['Sex'].fillna(df['Sex'].mode(),inplace=True)\n",
    "df['Sex'].isnull().sum()"
   ]
  },
  {
   "cell_type": "code",
   "execution_count": null,
   "id": "40da6109",
   "metadata": {
    "papermill": {
     "duration": 0.026718,
     "end_time": "2022-08-23T14:02:35.209899",
     "exception": false,
     "start_time": "2022-08-23T14:02:35.183181",
     "status": "completed"
    },
    "tags": []
   },
   "outputs": [],
   "source": []
  },
  {
   "cell_type": "markdown",
   "id": "587249ed",
   "metadata": {
    "papermill": {
     "duration": 0.02684,
     "end_time": "2022-08-23T14:02:35.263915",
     "exception": false,
     "start_time": "2022-08-23T14:02:35.237075",
     "status": "completed"
    },
    "tags": []
   },
   "source": [
    "<a id=\"content4\"></a>\n",
    "## 4. Modify/Add new column(s).\n",
    "Adding another column or modify a column."
   ]
  },
  {
   "cell_type": "code",
   "execution_count": null,
   "id": "3b9d2b1f",
   "metadata": {
    "execution": {
     "iopub.execute_input": "2022-08-23T14:02:35.320303Z",
     "iopub.status.busy": "2022-08-23T14:02:35.319899Z",
     "iopub.status.idle": "2022-08-23T14:02:35.335285Z",
     "shell.execute_reply": "2022-08-23T14:02:35.334506Z"
    },
    "papermill": {
     "duration": 0.046357,
     "end_time": "2022-08-23T14:02:35.337476",
     "exception": false,
     "start_time": "2022-08-23T14:02:35.291119",
     "status": "completed"
    },
    "tags": []
   },
   "outputs": [],
   "source": [
    "df.head()"
   ]
  },
  {
   "cell_type": "code",
   "execution_count": null,
   "id": "f01c4967",
   "metadata": {
    "execution": {
     "iopub.execute_input": "2022-08-23T14:02:35.394403Z",
     "iopub.status.busy": "2022-08-23T14:02:35.393706Z",
     "iopub.status.idle": "2022-08-23T14:02:35.409974Z",
     "shell.execute_reply": "2022-08-23T14:02:35.409233Z"
    },
    "papermill": {
     "duration": 0.046763,
     "end_time": "2022-08-23T14:02:35.411960",
     "exception": false,
     "start_time": "2022-08-23T14:02:35.365197",
     "status": "completed"
    },
    "tags": []
   },
   "outputs": [],
   "source": [
    "# Modifying a column\n",
    "df['Sex']=df['Sex'].map({\"male\":'0',\"female\":\"1\"})\n",
    "df.head()"
   ]
  },
  {
   "cell_type": "code",
   "execution_count": null,
   "metadata": {},
   "outputs": [],
   "source": [
    "# you can study more about lambda functions here: \n",
    "# https://realpython.com/lessons/what-is-lambda-function/\n",
    "\n",
    "\n",
    "'''\n",
    "It is just an anonymous function without a name\n",
    "\n",
    "defination of normal function:\n",
    "\n",
    "def function_name(parameter_list)\n",
    "    return expression\n",
    "\n",
    "examples of lambda function:\n",
    "'''\n",
    "\n",
    "add = lambda a, b : a + b   # Function Defination\n",
    "print('answer of add(3,6):', add(3,6)) ## 9               # Function Call\n",
    "\n",
    "# another example\n",
    "F = lambda i: 5**i          # 5 power i\n",
    "print('answer of F(7):', F(2)) \n"
   ]
  },
  {
   "cell_type": "code",
   "execution_count": null,
   "id": "f987e799",
   "metadata": {
    "execution": {
     "iopub.execute_input": "2022-08-23T14:02:35.469354Z",
     "iopub.status.busy": "2022-08-23T14:02:35.468674Z",
     "iopub.status.idle": "2022-08-23T14:02:35.476512Z",
     "shell.execute_reply": "2022-08-23T14:02:35.475701Z"
    },
    "papermill": {
     "duration": 0.038583,
     "end_time": "2022-08-23T14:02:35.478525",
     "exception": false,
     "start_time": "2022-08-23T14:02:35.439942",
     "status": "completed"
    },
    "tags": []
   },
   "outputs": [],
   "source": [
    "# Finding last name and first name from Name column.\n",
    "df['last_name']=df['Name'].apply(lambda x: x.split(',')[0]) \n",
    "df['first_name']=df['Name'].apply(lambda x: ' '.join(x.split(',')[1:]))\n"
   ]
  },
  {
   "cell_type": "code",
   "execution_count": null,
   "id": "a21f899f",
   "metadata": {
    "execution": {
     "iopub.execute_input": "2022-08-23T14:02:35.539582Z",
     "iopub.status.busy": "2022-08-23T14:02:35.538650Z",
     "iopub.status.idle": "2022-08-23T14:02:35.558612Z",
     "shell.execute_reply": "2022-08-23T14:02:35.557380Z"
    },
    "papermill": {
     "duration": 0.055173,
     "end_time": "2022-08-23T14:02:35.561330",
     "exception": false,
     "start_time": "2022-08-23T14:02:35.506157",
     "status": "completed"
    },
    "tags": []
   },
   "outputs": [],
   "source": [
    "df.head()"
   ]
  },
  {
   "cell_type": "code",
   "execution_count": null,
   "id": "ea29d057",
   "metadata": {
    "execution": {
     "iopub.execute_input": "2022-08-23T14:02:35.631781Z",
     "iopub.status.busy": "2022-08-23T14:02:35.631072Z",
     "iopub.status.idle": "2022-08-23T14:02:35.664400Z",
     "shell.execute_reply": "2022-08-23T14:02:35.663041Z"
    },
    "papermill": {
     "duration": 0.070979,
     "end_time": "2022-08-23T14:02:35.666991",
     "exception": false,
     "start_time": "2022-08-23T14:02:35.596012",
     "status": "completed"
    },
    "tags": []
   },
   "outputs": [],
   "source": [
    "# Sets to 1 for men in 3rd class.\n",
    "\n",
    "# !!!! TASK 2: IMPLEMENT BELOW LAMBDA FUNCTION USING NORMAL FUNCTION\n",
    "df['Thrid&Men']=df.apply(lambda row: int(row['Pclass']==3 and row['Sex']==\"0\"),axis=1)\n",
    "df.head()"
   ]
  },
  {
   "cell_type": "markdown",
   "id": "6c943c54",
   "metadata": {
    "papermill": {
     "duration": 0.027994,
     "end_time": "2022-08-23T14:02:35.723296",
     "exception": false,
     "start_time": "2022-08-23T14:02:35.695302",
     "status": "completed"
    },
    "tags": []
   },
   "source": [
    "##### Calling some custom function."
   ]
  },
  {
   "cell_type": "code",
   "execution_count": null,
   "id": "77a190e1",
   "metadata": {
    "execution": {
     "iopub.execute_input": "2022-08-23T14:02:35.782033Z",
     "iopub.status.busy": "2022-08-23T14:02:35.781349Z",
     "iopub.status.idle": "2022-08-23T14:02:35.788677Z",
     "shell.execute_reply": "2022-08-23T14:02:35.787697Z"
    },
    "papermill": {
     "duration": 0.039125,
     "end_time": "2022-08-23T14:02:35.790736",
     "exception": false,
     "start_time": "2022-08-23T14:02:35.751611",
     "status": "completed"
    },
    "tags": []
   },
   "outputs": [],
   "source": [
    "def findAgeGroup(age):\n",
    "    if age<18:\n",
    "        return 1\n",
    "    elif age>=18 and age<40:\n",
    "        return 2\n",
    "    elif age>=40 and age<60:\n",
    "        return 3\n",
    "    else:\n",
    "        return 4\n",
    "df['Age_group']=df['Age'].apply(lambda x: findAgeGroup(x))\n",
    "# Calling a custom function."
   ]
  },
  {
   "cell_type": "code",
   "execution_count": null,
   "id": "d87ed0eb",
   "metadata": {
    "execution": {
     "iopub.execute_input": "2022-08-23T14:02:35.849182Z",
     "iopub.status.busy": "2022-08-23T14:02:35.848464Z",
     "iopub.status.idle": "2022-08-23T14:02:35.866977Z",
     "shell.execute_reply": "2022-08-23T14:02:35.866110Z"
    },
    "papermill": {
     "duration": 0.050611,
     "end_time": "2022-08-23T14:02:35.869635",
     "exception": false,
     "start_time": "2022-08-23T14:02:35.819024",
     "status": "completed"
    },
    "tags": []
   },
   "outputs": [],
   "source": [
    "df.head()"
   ]
  },
  {
   "cell_type": "code",
   "execution_count": null,
   "id": "20fd9620",
   "metadata": {
    "papermill": {
     "duration": 0.028802,
     "end_time": "2022-08-23T14:02:35.927346",
     "exception": false,
     "start_time": "2022-08-23T14:02:35.898544",
     "status": "completed"
    },
    "tags": []
   },
   "outputs": [],
   "source": []
  },
  {
   "cell_type": "markdown",
   "id": "ae741011",
   "metadata": {
    "papermill": {
     "duration": 0.028699,
     "end_time": "2022-08-23T14:02:35.985002",
     "exception": false,
     "start_time": "2022-08-23T14:02:35.956303",
     "status": "completed"
    },
    "tags": []
   },
   "source": [
    "<a id=\"content5\"></a>\n",
    "## 5. Deleting columns"
   ]
  },
  {
   "cell_type": "code",
   "execution_count": null,
   "id": "9a36c8b3",
   "metadata": {
    "execution": {
     "iopub.execute_input": "2022-08-23T14:02:36.045492Z",
     "iopub.status.busy": "2022-08-23T14:02:36.045059Z",
     "iopub.status.idle": "2022-08-23T14:02:36.063311Z",
     "shell.execute_reply": "2022-08-23T14:02:36.062438Z"
    },
    "papermill": {
     "duration": 0.050976,
     "end_time": "2022-08-23T14:02:36.065513",
     "exception": false,
     "start_time": "2022-08-23T14:02:36.014537",
     "status": "completed"
    },
    "tags": []
   },
   "outputs": [],
   "source": [
    "df.head()"
   ]
  },
  {
   "cell_type": "code",
   "execution_count": null,
   "id": "96ed0c38",
   "metadata": {
    "execution": {
     "iopub.execute_input": "2022-08-23T14:02:36.126153Z",
     "iopub.status.busy": "2022-08-23T14:02:36.125438Z",
     "iopub.status.idle": "2022-08-23T14:02:36.144160Z",
     "shell.execute_reply": "2022-08-23T14:02:36.143325Z"
    },
    "papermill": {
     "duration": 0.051286,
     "end_time": "2022-08-23T14:02:36.146244",
     "exception": false,
     "start_time": "2022-08-23T14:02:36.094958",
     "status": "completed"
    },
    "tags": []
   },
   "outputs": [],
   "source": [
    "df=df.drop(['PassengerId'],axis=1)\n",
    "#df=df.drop(['PassengerId'],axis=1,inplace=True)\n",
    "df.head()"
   ]
  },
  {
   "cell_type": "code",
   "execution_count": null,
   "id": "0fcbb16a",
   "metadata": {
    "papermill": {
     "duration": 0.028917,
     "end_time": "2022-08-23T14:02:36.204413",
     "exception": false,
     "start_time": "2022-08-23T14:02:36.175496",
     "status": "completed"
    },
    "tags": []
   },
   "outputs": [],
   "source": []
  },
  {
   "cell_type": "markdown",
   "id": "115fdb9e",
   "metadata": {
    "papermill": {
     "duration": 0.029423,
     "end_time": "2022-08-23T14:02:36.263357",
     "exception": false,
     "start_time": "2022-08-23T14:02:36.233934",
     "status": "completed"
    },
    "tags": []
   },
   "source": [
    "<a id=\"content6\"></a>\n",
    "## 6. Renaming columns"
   ]
  },
  {
   "cell_type": "code",
   "execution_count": null,
   "id": "3eef83d9",
   "metadata": {
    "execution": {
     "iopub.execute_input": "2022-08-23T14:02:36.331887Z",
     "iopub.status.busy": "2022-08-23T14:02:36.331191Z",
     "iopub.status.idle": "2022-08-23T14:02:36.349611Z",
     "shell.execute_reply": "2022-08-23T14:02:36.348579Z"
    },
    "papermill": {
     "duration": 0.052072,
     "end_time": "2022-08-23T14:02:36.351818",
     "exception": false,
     "start_time": "2022-08-23T14:02:36.299746",
     "status": "completed"
    },
    "tags": []
   },
   "outputs": [],
   "source": [
    "# Lets try to rename some columns. \n",
    "df=df.rename(columns={'Sex':'Gender','Name':'Full Name','last_name':'Surname','first_name':'Name'})\n",
    "df.head()"
   ]
  },
  {
   "cell_type": "markdown",
   "id": "311f28dd",
   "metadata": {
    "papermill": {
     "duration": 0.029609,
     "end_time": "2022-08-23T14:02:36.411276",
     "exception": false,
     "start_time": "2022-08-23T14:02:36.381667",
     "status": "completed"
    },
    "tags": []
   },
   "source": [
    "Similarly, we can do for whichever column we want."
   ]
  },
  {
   "cell_type": "code",
   "execution_count": null,
   "id": "c16faf3e",
   "metadata": {
    "papermill": {
     "duration": 0.029123,
     "end_time": "2022-08-23T14:02:36.470237",
     "exception": false,
     "start_time": "2022-08-23T14:02:36.441114",
     "status": "completed"
    },
    "tags": []
   },
   "outputs": [],
   "source": []
  },
  {
   "cell_type": "markdown",
   "id": "77983fcc",
   "metadata": {
    "papermill": {
     "duration": 0.029695,
     "end_time": "2022-08-23T14:02:36.529722",
     "exception": false,
     "start_time": "2022-08-23T14:02:36.500027",
     "status": "completed"
    },
    "tags": []
   },
   "source": [
    "<a id=\"content7\"></a>\n",
    "## 7.i Slicing DataFrame"
   ]
  },
  {
   "cell_type": "code",
   "execution_count": null,
   "id": "9ed481a8",
   "metadata": {
    "execution": {
     "iopub.execute_input": "2022-08-23T14:02:36.591866Z",
     "iopub.status.busy": "2022-08-23T14:02:36.591433Z",
     "iopub.status.idle": "2022-08-23T14:02:36.611432Z",
     "shell.execute_reply": "2022-08-23T14:02:36.610309Z"
    },
    "papermill": {
     "duration": 0.054175,
     "end_time": "2022-08-23T14:02:36.613958",
     "exception": false,
     "start_time": "2022-08-23T14:02:36.559783",
     "status": "completed"
    },
    "tags": []
   },
   "outputs": [],
   "source": [
    "df.head()"
   ]
  },
  {
   "cell_type": "code",
   "execution_count": null,
   "id": "b7b24878",
   "metadata": {
    "execution": {
     "iopub.execute_input": "2022-08-23T14:02:36.677582Z",
     "iopub.status.busy": "2022-08-23T14:02:36.676603Z",
     "iopub.status.idle": "2022-08-23T14:02:36.696550Z",
     "shell.execute_reply": "2022-08-23T14:02:36.695473Z"
    },
    "papermill": {
     "duration": 0.053816,
     "end_time": "2022-08-23T14:02:36.698854",
     "exception": false,
     "start_time": "2022-08-23T14:02:36.645038",
     "status": "completed"
    },
    "tags": []
   },
   "outputs": [],
   "source": [
    "# All rows with pclass==3\n",
    "df_third_class=df[df['Pclass']==3].reset_index(drop=True) # w/0 drop=True it actually adds a index column rather.\n",
    "df_third_class.head()"
   ]
  },
  {
   "cell_type": "code",
   "execution_count": null,
   "id": "5d165102",
   "metadata": {
    "execution": {
     "iopub.execute_input": "2022-08-23T14:02:36.762020Z",
     "iopub.status.busy": "2022-08-23T14:02:36.761597Z",
     "iopub.status.idle": "2022-08-23T14:02:36.786834Z",
     "shell.execute_reply": "2022-08-23T14:02:36.785808Z"
    },
    "papermill": {
     "duration": 0.059416,
     "end_time": "2022-08-23T14:02:36.788993",
     "exception": false,
     "start_time": "2022-08-23T14:02:36.729577",
     "status": "completed"
    },
    "tags": []
   },
   "outputs": [],
   "source": [
    "# Females with age > 60\n",
    "df_aged=df[(df['Age']>60) & (df['Gender']==\"1\")]\n",
    "df_aged.head()"
   ]
  },
  {
   "cell_type": "markdown",
   "id": "b06be405",
   "metadata": {
    "papermill": {
     "duration": 0.030452,
     "end_time": "2022-08-23T14:02:36.850345",
     "exception": false,
     "start_time": "2022-08-23T14:02:36.819893",
     "status": "completed"
    },
    "tags": []
   },
   "source": [
    "**Note that all these three ladies were saved as they were senior citizen and women so they may have been given priority.**"
   ]
  },
  {
   "cell_type": "code",
   "execution_count": null,
   "id": "a0a21497",
   "metadata": {
    "execution": {
     "iopub.execute_input": "2022-08-23T14:02:36.914453Z",
     "iopub.status.busy": "2022-08-23T14:02:36.913751Z",
     "iopub.status.idle": "2022-08-23T14:02:36.925571Z",
     "shell.execute_reply": "2022-08-23T14:02:36.924499Z"
    },
    "papermill": {
     "duration": 0.046393,
     "end_time": "2022-08-23T14:02:36.928046",
     "exception": false,
     "start_time": "2022-08-23T14:02:36.881653",
     "status": "completed"
    },
    "tags": []
   },
   "outputs": [],
   "source": [
    "# Selecting some columns.\n",
    "df1=df[['Age','Pclass','Gender']]\n",
    "df1.head()"
   ]
  },
  {
   "cell_type": "code",
   "execution_count": null,
   "id": "7fef31e4",
   "metadata": {
    "execution": {
     "iopub.execute_input": "2022-08-23T14:02:36.993284Z",
     "iopub.status.busy": "2022-08-23T14:02:36.992516Z",
     "iopub.status.idle": "2022-08-23T14:02:37.008288Z",
     "shell.execute_reply": "2022-08-23T14:02:37.007301Z"
    },
    "papermill": {
     "duration": 0.050989,
     "end_time": "2022-08-23T14:02:37.010659",
     "exception": false,
     "start_time": "2022-08-23T14:02:36.959670",
     "status": "completed"
    },
    "tags": []
   },
   "outputs": [],
   "source": [
    "# Select numerical columns only\n",
    "numerics = ['int16', 'int32', 'int64', 'float16', 'float32', 'float64']\n",
    "\n",
    "df_num = df.select_dtypes(include=numerics)\n",
    "df_num.head()"
   ]
  },
  {
   "cell_type": "code",
   "execution_count": null,
   "id": "527b5871",
   "metadata": {
    "execution": {
     "iopub.execute_input": "2022-08-23T14:02:37.076444Z",
     "iopub.status.busy": "2022-08-23T14:02:37.076039Z",
     "iopub.status.idle": "2022-08-23T14:02:37.093473Z",
     "shell.execute_reply": "2022-08-23T14:02:37.092289Z"
    },
    "papermill": {
     "duration": 0.052865,
     "end_time": "2022-08-23T14:02:37.095728",
     "exception": false,
     "start_time": "2022-08-23T14:02:37.042863",
     "status": "completed"
    },
    "tags": []
   },
   "outputs": [],
   "source": [
    "# categorical columns\n",
    "df_cat=df.select_dtypes(include=['object'])\n",
    "df_cat.head()"
   ]
  },
  {
   "cell_type": "code",
   "execution_count": null,
   "id": "952c8038",
   "metadata": {
    "papermill": {
     "duration": 0.031012,
     "end_time": "2022-08-23T14:02:37.158416",
     "exception": false,
     "start_time": "2022-08-23T14:02:37.127404",
     "status": "completed"
    },
    "tags": []
   },
   "outputs": [],
   "source": []
  },
  {
   "cell_type": "markdown",
   "id": "a968ec24",
   "metadata": {
    "papermill": {
     "duration": 0.030629,
     "end_time": "2022-08-23T14:02:37.220234",
     "exception": false,
     "start_time": "2022-08-23T14:02:37.189605",
     "status": "completed"
    },
    "tags": []
   },
   "source": [
    "<a id=\"content8\"></a>\n",
    "## 7.ii Slicing using iloc and loc"
   ]
  },
  {
   "cell_type": "markdown",
   "id": "b23f5365",
   "metadata": {
    "papermill": {
     "duration": 0.03098,
     "end_time": "2022-08-23T14:02:37.282376",
     "exception": false,
     "start_time": "2022-08-23T14:02:37.251396",
     "status": "completed"
    },
    "tags": []
   },
   "source": [
    "#### iloc"
   ]
  },
  {
   "cell_type": "code",
   "execution_count": null,
   "id": "e4f9d4a4",
   "metadata": {
    "execution": {
     "iopub.execute_input": "2022-08-23T14:02:37.346528Z",
     "iopub.status.busy": "2022-08-23T14:02:37.346128Z",
     "iopub.status.idle": "2022-08-23T14:02:37.364413Z",
     "shell.execute_reply": "2022-08-23T14:02:37.363407Z"
    },
    "papermill": {
     "duration": 0.052962,
     "end_time": "2022-08-23T14:02:37.366606",
     "exception": false,
     "start_time": "2022-08-23T14:02:37.313644",
     "status": "completed"
    },
    "tags": []
   },
   "outputs": [],
   "source": [
    "df.head()"
   ]
  },
  {
   "cell_type": "code",
   "execution_count": null,
   "id": "b0006c95",
   "metadata": {
    "execution": {
     "iopub.execute_input": "2022-08-23T14:02:37.431330Z",
     "iopub.status.busy": "2022-08-23T14:02:37.430899Z",
     "iopub.status.idle": "2022-08-23T14:02:37.450233Z",
     "shell.execute_reply": "2022-08-23T14:02:37.449152Z"
    },
    "papermill": {
     "duration": 0.05424,
     "end_time": "2022-08-23T14:02:37.452520",
     "exception": false,
     "start_time": "2022-08-23T14:02:37.398280",
     "status": "completed"
    },
    "tags": []
   },
   "outputs": [],
   "source": [
    "# First 100 rows & all columns\n",
    "df_sub1=df.iloc[0:100,:]\n",
    "df_sub1.head()"
   ]
  },
  {
   "cell_type": "code",
   "execution_count": null,
   "id": "a433f0ae",
   "metadata": {
    "execution": {
     "iopub.execute_input": "2022-08-23T14:02:37.518118Z",
     "iopub.status.busy": "2022-08-23T14:02:37.517762Z",
     "iopub.status.idle": "2022-08-23T14:02:37.528734Z",
     "shell.execute_reply": "2022-08-23T14:02:37.527662Z"
    },
    "papermill": {
     "duration": 0.046863,
     "end_time": "2022-08-23T14:02:37.531325",
     "exception": false,
     "start_time": "2022-08-23T14:02:37.484462",
     "status": "completed"
    },
    "tags": []
   },
   "outputs": [],
   "source": [
    "#First 250 rows with a subset of columns\n",
    "\n",
    "#df_sub2=df.iloc[:250,['Age']] \n",
    "# This will throw an error as iloc only consumes integres as indices.\n",
    "\n",
    "df_sub2=df.iloc[:250,[1,8]] \n",
    "#Returns first 250 rows and columns at those indices in df.columns.\n",
    "df_sub2.head()"
   ]
  },
  {
   "cell_type": "code",
   "execution_count": null,
   "id": "03f96158",
   "metadata": {
    "papermill": {
     "duration": 0.031814,
     "end_time": "2022-08-23T14:02:37.595085",
     "exception": false,
     "start_time": "2022-08-23T14:02:37.563271",
     "status": "completed"
    },
    "tags": []
   },
   "outputs": [],
   "source": []
  },
  {
   "cell_type": "markdown",
   "id": "5bf84e9b",
   "metadata": {
    "papermill": {
     "duration": 0.031586,
     "end_time": "2022-08-23T14:02:37.658628",
     "exception": false,
     "start_time": "2022-08-23T14:02:37.627042",
     "status": "completed"
    },
    "tags": []
   },
   "source": [
    "#### loc"
   ]
  },
  {
   "cell_type": "code",
   "execution_count": null,
   "id": "be5ad0cd",
   "metadata": {
    "execution": {
     "iopub.execute_input": "2022-08-23T14:02:37.724047Z",
     "iopub.status.busy": "2022-08-23T14:02:37.723440Z",
     "iopub.status.idle": "2022-08-23T14:02:37.741192Z",
     "shell.execute_reply": "2022-08-23T14:02:37.740065Z"
    },
    "papermill": {
     "duration": 0.053177,
     "end_time": "2022-08-23T14:02:37.743380",
     "exception": false,
     "start_time": "2022-08-23T14:02:37.690203",
     "status": "completed"
    },
    "tags": []
   },
   "outputs": [],
   "source": [
    "df.head()"
   ]
  },
  {
   "cell_type": "code",
   "execution_count": null,
   "id": "6fe77034",
   "metadata": {
    "execution": {
     "iopub.execute_input": "2022-08-23T14:02:37.810116Z",
     "iopub.status.busy": "2022-08-23T14:02:37.809489Z",
     "iopub.status.idle": "2022-08-23T14:02:37.814499Z",
     "shell.execute_reply": "2022-08-23T14:02:37.813622Z"
    },
    "papermill": {
     "duration": 0.040708,
     "end_time": "2022-08-23T14:02:37.816633",
     "exception": false,
     "start_time": "2022-08-23T14:02:37.775925",
     "status": "completed"
    },
    "tags": []
   },
   "outputs": [],
   "source": [
    "# First 500 rows.\n",
    "df_sub3=df.loc[:500,:]"
   ]
  },
  {
   "cell_type": "code",
   "execution_count": null,
   "id": "d2abe166",
   "metadata": {
    "execution": {
     "iopub.execute_input": "2022-08-23T14:02:37.884847Z",
     "iopub.status.busy": "2022-08-23T14:02:37.884177Z",
     "iopub.status.idle": "2022-08-23T14:02:37.897106Z",
     "shell.execute_reply": "2022-08-23T14:02:37.895987Z"
    },
    "papermill": {
     "duration": 0.04943,
     "end_time": "2022-08-23T14:02:37.899275",
     "exception": false,
     "start_time": "2022-08-23T14:02:37.849845",
     "status": "completed"
    },
    "tags": []
   },
   "outputs": [],
   "source": [
    "# Gender and age of age >50\n",
    "df_sub4=df.loc[(df['Age']>50),['Gender','Age']]\n",
    "df_sub4.head()"
   ]
  },
  {
   "cell_type": "code",
   "execution_count": null,
   "id": "5f6bf721",
   "metadata": {
    "papermill": {
     "duration": 0.032051,
     "end_time": "2022-08-23T14:02:37.963867",
     "exception": false,
     "start_time": "2022-08-23T14:02:37.931816",
     "status": "completed"
    },
    "tags": []
   },
   "outputs": [],
   "source": []
  },
  {
   "cell_type": "markdown",
   "id": "f862dec2",
   "metadata": {
    "papermill": {
     "duration": 0.032643,
     "end_time": "2022-08-23T14:02:38.029209",
     "exception": false,
     "start_time": "2022-08-23T14:02:37.996566",
     "status": "completed"
    },
    "tags": []
   },
   "source": [
    "<a id=\"content9\"></a>\n",
    "## 8. Adding a row"
   ]
  },
  {
   "cell_type": "code",
   "execution_count": null,
   "id": "406c6d11",
   "metadata": {
    "execution": {
     "iopub.execute_input": "2022-08-23T14:02:38.097454Z",
     "iopub.status.busy": "2022-08-23T14:02:38.096719Z",
     "iopub.status.idle": "2022-08-23T14:02:38.115354Z",
     "shell.execute_reply": "2022-08-23T14:02:38.114302Z"
    },
    "papermill": {
     "duration": 0.055365,
     "end_time": "2022-08-23T14:02:38.117703",
     "exception": false,
     "start_time": "2022-08-23T14:02:38.062338",
     "status": "completed"
    },
    "tags": []
   },
   "outputs": [],
   "source": [
    "df.head()"
   ]
  },
  {
   "cell_type": "code",
   "execution_count": null,
   "id": "df732f7f",
   "metadata": {
    "execution": {
     "iopub.execute_input": "2022-08-23T14:02:38.185581Z",
     "iopub.status.busy": "2022-08-23T14:02:38.185183Z",
     "iopub.status.idle": "2022-08-23T14:02:38.213342Z",
     "shell.execute_reply": "2022-08-23T14:02:38.212221Z"
    },
    "papermill": {
     "duration": 0.064887,
     "end_time": "2022-08-23T14:02:38.215628",
     "exception": false,
     "start_time": "2022-08-23T14:02:38.150741",
     "status": "completed"
    },
    "tags": []
   },
   "outputs": [],
   "source": [
    "# New row to add\n",
    "new_row = {'Age': 24, 'Full Name': 'Peter', 'Survived': 'Y'}\n",
    "\n",
    "# Concatenate the DataFrame with the new row\n",
    "df = pd.concat([df, pd.DataFrame([new_row])], ignore_index=True)\n",
    "\n",
    "df.tail()"
   ]
  },
  {
   "cell_type": "code",
   "execution_count": null,
   "id": "69cb87bd",
   "metadata": {
    "papermill": {
     "duration": 0.033538,
     "end_time": "2022-08-23T14:02:38.282637",
     "exception": false,
     "start_time": "2022-08-23T14:02:38.249099",
     "status": "completed"
    },
    "tags": []
   },
   "outputs": [],
   "source": []
  },
  {
   "cell_type": "code",
   "execution_count": null,
   "id": "b94bab1e",
   "metadata": {
    "execution": {
     "iopub.execute_input": "2022-08-23T14:02:38.350706Z",
     "iopub.status.busy": "2022-08-23T14:02:38.350330Z",
     "iopub.status.idle": "2022-08-23T14:02:38.377567Z",
     "shell.execute_reply": "2022-08-23T14:02:38.376743Z"
    },
    "papermill": {
     "duration": 0.063676,
     "end_time": "2022-08-23T14:02:38.379602",
     "exception": false,
     "start_time": "2022-08-23T14:02:38.315926",
     "status": "completed"
    },
    "tags": []
   },
   "outputs": [],
   "source": [
    "# Adding new row using loc\n",
    "df.loc[len(df.index)]=row\n",
    "df.tail()"
   ]
  },
  {
   "cell_type": "code",
   "execution_count": null,
   "id": "4a587426",
   "metadata": {
    "papermill": {
     "duration": 0.033336,
     "end_time": "2022-08-23T14:02:38.446966",
     "exception": false,
     "start_time": "2022-08-23T14:02:38.413630",
     "status": "completed"
    },
    "tags": []
   },
   "outputs": [],
   "source": []
  },
  {
   "cell_type": "markdown",
   "id": "6e89f08c",
   "metadata": {
    "papermill": {
     "duration": 0.033627,
     "end_time": "2022-08-23T14:02:38.513856",
     "exception": false,
     "start_time": "2022-08-23T14:02:38.480229",
     "status": "completed"
    },
    "tags": []
   },
   "source": [
    "<a id=\"content10\"></a>\n",
    "## 9. Dropping row(s)"
   ]
  },
  {
   "cell_type": "code",
   "execution_count": null,
   "id": "0a821f42",
   "metadata": {
    "execution": {
     "iopub.execute_input": "2022-08-23T14:02:38.583999Z",
     "iopub.status.busy": "2022-08-23T14:02:38.583286Z",
     "iopub.status.idle": "2022-08-23T14:02:38.605343Z",
     "shell.execute_reply": "2022-08-23T14:02:38.604528Z"
    },
    "papermill": {
     "duration": 0.059,
     "end_time": "2022-08-23T14:02:38.607370",
     "exception": false,
     "start_time": "2022-08-23T14:02:38.548370",
     "status": "completed"
    },
    "tags": []
   },
   "outputs": [],
   "source": [
    "df=df.drop(df.index[-1],axis=0) # Deletes last row\n",
    "df.tail()"
   ]
  },
  {
   "cell_type": "code",
   "execution_count": null,
   "id": "546ce6a5",
   "metadata": {
    "papermill": {
     "duration": 0.033327,
     "end_time": "2022-08-23T14:02:38.674740",
     "exception": false,
     "start_time": "2022-08-23T14:02:38.641413",
     "status": "completed"
    },
    "tags": []
   },
   "outputs": [],
   "source": []
  },
  {
   "cell_type": "markdown",
   "id": "b52ab0d2",
   "metadata": {
    "papermill": {
     "duration": 0.033311,
     "end_time": "2022-08-23T14:02:38.741840",
     "exception": false,
     "start_time": "2022-08-23T14:02:38.708529",
     "status": "completed"
    },
    "tags": []
   },
   "source": [
    "<a id=\"content11\"></a>\n",
    "## 10. Sorting"
   ]
  },
  {
   "cell_type": "code",
   "execution_count": null,
   "id": "487de5da",
   "metadata": {
    "execution": {
     "iopub.execute_input": "2022-08-23T14:02:38.812052Z",
     "iopub.status.busy": "2022-08-23T14:02:38.811347Z",
     "iopub.status.idle": "2022-08-23T14:02:38.832188Z",
     "shell.execute_reply": "2022-08-23T14:02:38.831035Z"
    },
    "papermill": {
     "duration": 0.058884,
     "end_time": "2022-08-23T14:02:38.834518",
     "exception": false,
     "start_time": "2022-08-23T14:02:38.775634",
     "status": "completed"
    },
    "tags": []
   },
   "outputs": [],
   "source": [
    "df.head()"
   ]
  },
  {
   "cell_type": "code",
   "execution_count": null,
   "id": "fc59eadf",
   "metadata": {
    "execution": {
     "iopub.execute_input": "2022-08-23T14:02:38.906463Z",
     "iopub.status.busy": "2022-08-23T14:02:38.905859Z",
     "iopub.status.idle": "2022-08-23T14:02:38.928280Z",
     "shell.execute_reply": "2022-08-23T14:02:38.927341Z"
    },
    "papermill": {
     "duration": 0.061089,
     "end_time": "2022-08-23T14:02:38.930310",
     "exception": false,
     "start_time": "2022-08-23T14:02:38.869221",
     "status": "completed"
    },
    "tags": []
   },
   "outputs": [],
   "source": [
    "# sorting by age say in decreasing order.\n",
    "df=df.sort_values(by=['Age'],ascending=False) # can specify multiple columns in a list as well.\n",
    "df.head()"
   ]
  },
  {
   "cell_type": "code",
   "execution_count": null,
   "id": "e86c7a57",
   "metadata": {
    "papermill": {
     "duration": 0.034336,
     "end_time": "2022-08-23T14:02:38.999020",
     "exception": false,
     "start_time": "2022-08-23T14:02:38.964684",
     "status": "completed"
    },
    "tags": []
   },
   "outputs": [],
   "source": []
  },
  {
   "cell_type": "markdown",
   "id": "5150bda9",
   "metadata": {
    "papermill": {
     "duration": 0.034267,
     "end_time": "2022-08-23T14:02:39.068206",
     "exception": false,
     "start_time": "2022-08-23T14:02:39.033939",
     "status": "completed"
    },
    "tags": []
   },
   "source": [
    "<a id=\"content12\"></a>\n",
    "## 11. Joins"
   ]
  },
  {
   "cell_type": "markdown",
   "metadata": {},
   "source": [
    "###### !!!! Joins are not very much important, u should know the join concept and when u need it u can refer here"
   ]
  },
  {
   "cell_type": "markdown",
   "id": "45190f43",
   "metadata": {
    "papermill": {
     "duration": 0.034166,
     "end_time": "2022-08-23T14:02:39.136647",
     "exception": false,
     "start_time": "2022-08-23T14:02:39.102481",
     "status": "completed"
    },
    "tags": []
   },
   "source": [
    "Let's create two separate data frames and try all 5 (Cross,Inner, Left, Right,and Outer Joins)."
   ]
  },
  {
   "cell_type": "code",
   "execution_count": null,
   "id": "3fc43764",
   "metadata": {
    "execution": {
     "iopub.execute_input": "2022-08-23T14:02:39.208924Z",
     "iopub.status.busy": "2022-08-23T14:02:39.208234Z",
     "iopub.status.idle": "2022-08-23T14:02:39.219767Z",
     "shell.execute_reply": "2022-08-23T14:02:39.218938Z"
    },
    "papermill": {
     "duration": 0.049422,
     "end_time": "2022-08-23T14:02:39.221739",
     "exception": false,
     "start_time": "2022-08-23T14:02:39.172317",
     "status": "completed"
    },
    "tags": []
   },
   "outputs": [],
   "source": [
    "sno=[i+1 for i in range(100)]\n",
    "marks=np.random.randint(100,size=100)\n",
    "print(len(marks))\n",
    "marks_df=pd.DataFrame({'Sno':sno,'Marks':marks})\n",
    "marks_df.head()"
   ]
  },
  {
   "cell_type": "code",
   "execution_count": null,
   "id": "c468eeb5",
   "metadata": {
    "execution": {
     "iopub.execute_input": "2022-08-23T14:02:39.293173Z",
     "iopub.status.busy": "2022-08-23T14:02:39.292399Z",
     "iopub.status.idle": "2022-08-23T14:02:39.306053Z",
     "shell.execute_reply": "2022-08-23T14:02:39.304498Z"
    },
    "papermill": {
     "duration": 0.052024,
     "end_time": "2022-08-23T14:02:39.308368",
     "exception": false,
     "start_time": "2022-08-23T14:02:39.256344",
     "status": "completed"
    },
    "tags": []
   },
   "outputs": [],
   "source": [
    "sno=[i+1 for i in range(100)]\n",
    "age=np.random.randint(100,size=100)\n",
    "print(len(marks))\n",
    "age_df=pd.DataFrame({'Sno':sno,'Age':age})\n",
    "age_df.head()"
   ]
  },
  {
   "cell_type": "markdown",
   "id": "54b28a45",
   "metadata": {
    "papermill": {
     "duration": 0.034593,
     "end_time": "2022-08-23T14:02:39.377866",
     "exception": false,
     "start_time": "2022-08-23T14:02:39.343273",
     "status": "completed"
    },
    "tags": []
   },
   "source": [
    "#### Cross join"
   ]
  },
  {
   "cell_type": "code",
   "execution_count": null,
   "id": "35e49202",
   "metadata": {
    "execution": {
     "iopub.execute_input": "2022-08-23T14:02:39.450131Z",
     "iopub.status.busy": "2022-08-23T14:02:39.449079Z",
     "iopub.status.idle": "2022-08-23T14:02:39.473097Z",
     "shell.execute_reply": "2022-08-23T14:02:39.471608Z"
    },
    "papermill": {
     "duration": 0.062554,
     "end_time": "2022-08-23T14:02:39.475491",
     "exception": false,
     "start_time": "2022-08-23T14:02:39.412937",
     "status": "completed"
    },
    "tags": []
   },
   "outputs": [],
   "source": [
    "cross_join=pd.merge(marks_df,age_df,how='cross')\n",
    "print(cross_join.shape)\n",
    "cross_join.head()"
   ]
  },
  {
   "cell_type": "markdown",
   "id": "9942fb44",
   "metadata": {
    "papermill": {
     "duration": 0.034686,
     "end_time": "2022-08-23T14:02:39.546339",
     "exception": false,
     "start_time": "2022-08-23T14:02:39.511653",
     "status": "completed"
    },
    "tags": []
   },
   "source": [
    "#### Inner Join"
   ]
  },
  {
   "cell_type": "code",
   "execution_count": null,
   "id": "eaaaf7d7",
   "metadata": {
    "execution": {
     "iopub.execute_input": "2022-08-23T14:02:39.618364Z",
     "iopub.status.busy": "2022-08-23T14:02:39.617641Z",
     "iopub.status.idle": "2022-08-23T14:02:39.630053Z",
     "shell.execute_reply": "2022-08-23T14:02:39.629231Z"
    },
    "papermill": {
     "duration": 0.050918,
     "end_time": "2022-08-23T14:02:39.632047",
     "exception": false,
     "start_time": "2022-08-23T14:02:39.581129",
     "status": "completed"
    },
    "tags": []
   },
   "outputs": [],
   "source": [
    "inner_join=pd.merge(age_df,marks_df,how='inner',on='Sno') # 'how' defaults to 'inner' only.\n",
    "print(inner_join.shape)\n",
    "inner_join.head()"
   ]
  },
  {
   "cell_type": "markdown",
   "id": "d9458863",
   "metadata": {
    "papermill": {
     "duration": 0.03485,
     "end_time": "2022-08-23T14:02:39.702651",
     "exception": false,
     "start_time": "2022-08-23T14:02:39.667801",
     "status": "completed"
    },
    "tags": []
   },
   "source": [
    "#### Left and Right Outer Join(s)"
   ]
  },
  {
   "cell_type": "markdown",
   "id": "ef9195fd",
   "metadata": {
    "papermill": {
     "duration": 0.035155,
     "end_time": "2022-08-23T14:02:39.773389",
     "exception": false,
     "start_time": "2022-08-23T14:02:39.738234",
     "status": "completed"
    },
    "tags": []
   },
   "source": [
    "Lets add some more rows to either frame so that left and right outer join makes sense"
   ]
  },
  {
   "cell_type": "code",
   "execution_count": null,
   "id": "92dbfbff",
   "metadata": {
    "execution": {
     "iopub.execute_input": "2022-08-23T14:02:39.846519Z",
     "iopub.status.busy": "2022-08-23T14:02:39.845818Z",
     "iopub.status.idle": "2022-08-23T14:02:39.862792Z",
     "shell.execute_reply": "2022-08-23T14:02:39.861814Z"
    },
    "papermill": {
     "duration": 0.055992,
     "end_time": "2022-08-23T14:02:39.864943",
     "exception": false,
     "start_time": "2022-08-23T14:02:39.808951",
     "status": "completed"
    },
    "tags": []
   },
   "outputs": [],
   "source": [
    "age_df.loc[len(age_df.index)]={'Sno':101,'Age':23}\n",
    "age_df.loc[len(age_df.index)]={'Sno':102,'Age':27}\n",
    "age_df.loc[len(age_df.index)]={'Sno':104,'Age':29}\n",
    "age_df.loc[len(age_df.index)]={'Sno':103,'Age':32}\n",
    "age_df.loc[len(age_df.index)]={'Sno':105,'Age':53}"
   ]
  },
  {
   "cell_type": "code",
   "execution_count": null,
   "id": "d499a357",
   "metadata": {
    "execution": {
     "iopub.execute_input": "2022-08-23T14:02:39.938307Z",
     "iopub.status.busy": "2022-08-23T14:02:39.937612Z",
     "iopub.status.idle": "2022-08-23T14:02:39.953007Z",
     "shell.execute_reply": "2022-08-23T14:02:39.951704Z"
    },
    "papermill": {
     "duration": 0.054441,
     "end_time": "2022-08-23T14:02:39.955225",
     "exception": false,
     "start_time": "2022-08-23T14:02:39.900784",
     "status": "completed"
    },
    "tags": []
   },
   "outputs": [],
   "source": [
    "#left join\n",
    "left_join=pd.merge(age_df,marks_df,how='left',on='Sno')\n",
    "print(left_join.shape)\n",
    "left_join.tail()  "
   ]
  },
  {
   "cell_type": "markdown",
   "id": "e0df79e8",
   "metadata": {
    "papermill": {
     "duration": 0.035736,
     "end_time": "2022-08-23T14:02:40.027017",
     "exception": false,
     "start_time": "2022-08-23T14:02:39.991281",
     "status": "completed"
    },
    "tags": []
   },
   "source": [
    " **Marks=Nan** confirms the left join."
   ]
  },
  {
   "cell_type": "code",
   "execution_count": null,
   "id": "68738997",
   "metadata": {
    "execution": {
     "iopub.execute_input": "2022-08-23T14:02:40.099906Z",
     "iopub.status.busy": "2022-08-23T14:02:40.099203Z",
     "iopub.status.idle": "2022-08-23T14:02:40.112525Z",
     "shell.execute_reply": "2022-08-23T14:02:40.111667Z"
    },
    "papermill": {
     "duration": 0.051991,
     "end_time": "2022-08-23T14:02:40.114474",
     "exception": false,
     "start_time": "2022-08-23T14:02:40.062483",
     "status": "completed"
    },
    "tags": []
   },
   "outputs": [],
   "source": [
    "#right join\n",
    "right_join=pd.merge(marks_df,age_df,how='right',on='Sno')\n",
    "print(right_join.shape)\n",
    "right_join.tail()  "
   ]
  },
  {
   "cell_type": "markdown",
   "id": "224278f8",
   "metadata": {
    "papermill": {
     "duration": 0.035491,
     "end_time": "2022-08-23T14:02:40.186002",
     "exception": false,
     "start_time": "2022-08-23T14:02:40.150511",
     "status": "completed"
    },
    "tags": []
   },
   "source": [
    "**Marks=Nan** confirms the right join in this case as the order of input frames is also reversed."
   ]
  },
  {
   "cell_type": "code",
   "execution_count": null,
   "id": "b68bff92",
   "metadata": {
    "papermill": {
     "duration": 0.035659,
     "end_time": "2022-08-23T14:02:40.257632",
     "exception": false,
     "start_time": "2022-08-23T14:02:40.221973",
     "status": "completed"
    },
    "tags": []
   },
   "outputs": [],
   "source": []
  },
  {
   "cell_type": "markdown",
   "id": "ac24dc81",
   "metadata": {
    "papermill": {
     "duration": 0.0357,
     "end_time": "2022-08-23T14:02:40.329379",
     "exception": false,
     "start_time": "2022-08-23T14:02:40.293679",
     "status": "completed"
    },
    "tags": []
   },
   "source": [
    "#### Full outer join\n",
    "One last time, lets modify the marks frame also to test **Full outer join.**"
   ]
  },
  {
   "cell_type": "code",
   "execution_count": null,
   "id": "3e372a2f",
   "metadata": {
    "execution": {
     "iopub.execute_input": "2022-08-23T14:02:40.402985Z",
     "iopub.status.busy": "2022-08-23T14:02:40.402292Z",
     "iopub.status.idle": "2022-08-23T14:02:40.413958Z",
     "shell.execute_reply": "2022-08-23T14:02:40.413219Z"
    },
    "papermill": {
     "duration": 0.050828,
     "end_time": "2022-08-23T14:02:40.415934",
     "exception": false,
     "start_time": "2022-08-23T14:02:40.365106",
     "status": "completed"
    },
    "tags": []
   },
   "outputs": [],
   "source": [
    "marks_df.loc[len(marks_df.index)]={'Sno':106,'Marks':79}\n",
    "marks_df.tail()"
   ]
  },
  {
   "cell_type": "code",
   "execution_count": null,
   "id": "58f1b0e9",
   "metadata": {
    "execution": {
     "iopub.execute_input": "2022-08-23T14:02:40.551122Z",
     "iopub.status.busy": "2022-08-23T14:02:40.550428Z",
     "iopub.status.idle": "2022-08-23T14:02:40.567266Z",
     "shell.execute_reply": "2022-08-23T14:02:40.566124Z"
    },
    "papermill": {
     "duration": 0.056337,
     "end_time": "2022-08-23T14:02:40.569523",
     "exception": false,
     "start_time": "2022-08-23T14:02:40.513186",
     "status": "completed"
    },
    "tags": []
   },
   "outputs": [],
   "source": [
    "#outer join\n",
    "out_join=pd.merge(marks_df,age_df,how='outer',on='Sno')\n",
    "print(out_join.shape)\n",
    "out_join.tail(10)"
   ]
  },
  {
   "cell_type": "markdown",
   "id": "b3f0acb9",
   "metadata": {
    "papermill": {
     "duration": 0.036623,
     "end_time": "2022-08-23T14:02:40.642729",
     "exception": false,
     "start_time": "2022-08-23T14:02:40.606106",
     "status": "completed"
    },
    "tags": []
   },
   "source": [
    "Row index **100** is added in putput which confirms the **full outer join**"
   ]
  },
  {
   "cell_type": "code",
   "execution_count": null,
   "id": "9200f268",
   "metadata": {
    "papermill": {
     "duration": 0.036681,
     "end_time": "2022-08-23T14:02:40.716008",
     "exception": false,
     "start_time": "2022-08-23T14:02:40.679327",
     "status": "completed"
    },
    "tags": []
   },
   "outputs": [],
   "source": []
  },
  {
   "cell_type": "markdown",
   "id": "c7cd2f46",
   "metadata": {
    "papermill": {
     "duration": 0.036467,
     "end_time": "2022-08-23T14:02:40.789663",
     "exception": false,
     "start_time": "2022-08-23T14:02:40.753196",
     "status": "completed"
    },
    "tags": []
   },
   "source": [
    "<a id=\"content13\"></a>\n",
    "## 12. Groupby\n",
    "\n",
    "Let's get back to our titanic dataset."
   ]
  },
  {
   "cell_type": "code",
   "execution_count": null,
   "id": "ed25a3ca",
   "metadata": {
    "execution": {
     "iopub.execute_input": "2022-08-23T14:02:40.866119Z",
     "iopub.status.busy": "2022-08-23T14:02:40.865437Z",
     "iopub.status.idle": "2022-08-23T14:02:40.885592Z",
     "shell.execute_reply": "2022-08-23T14:02:40.884785Z"
    },
    "papermill": {
     "duration": 0.060878,
     "end_time": "2022-08-23T14:02:40.887821",
     "exception": false,
     "start_time": "2022-08-23T14:02:40.826943",
     "status": "completed"
    },
    "tags": []
   },
   "outputs": [],
   "source": [
    "df.head()"
   ]
  },
  {
   "cell_type": "code",
   "execution_count": null,
   "id": "4ce9d37b",
   "metadata": {
    "papermill": {
     "duration": 0.03649,
     "end_time": "2022-08-23T14:02:40.962167",
     "exception": false,
     "start_time": "2022-08-23T14:02:40.925677",
     "status": "completed"
    },
    "tags": []
   },
   "outputs": [],
   "source": []
  },
  {
   "cell_type": "markdown",
   "id": "43968fdf",
   "metadata": {
    "papermill": {
     "duration": 0.036836,
     "end_time": "2022-08-23T14:02:41.036049",
     "exception": false,
     "start_time": "2022-08-23T14:02:40.999213",
     "status": "completed"
    },
    "tags": []
   },
   "source": [
    "#### Before, we move onto Groupby in pandas, lets recollect groupby from SQL. A SQL query, may contain hese parts (some might be optional like having etc...):\n",
    "\n",
    "\n",
    "1. Table name (**from**)\n",
    "2. Some condition to filter rows (**where clause**)\n",
    "3. Attribute to groupby on (**groupby attributes**)\n",
    "4. Filter rows after groupby (**having clause**)\n",
    "5. Display attributes in the final result. (**select**)\n",
    "\n",
    "\n",
    "##### Let's now see how to mimic this in Pandas ;)"
   ]
  },
  {
   "cell_type": "code",
   "execution_count": null,
   "id": "1c780b76",
   "metadata": {
    "execution": {
     "iopub.execute_input": "2022-08-23T14:02:41.111815Z",
     "iopub.status.busy": "2022-08-23T14:02:41.110882Z",
     "iopub.status.idle": "2022-08-23T14:02:41.131150Z",
     "shell.execute_reply": "2022-08-23T14:02:41.130395Z"
    },
    "papermill": {
     "duration": 0.059991,
     "end_time": "2022-08-23T14:02:41.133143",
     "exception": false,
     "start_time": "2022-08-23T14:02:41.073152",
     "status": "completed"
    },
    "tags": []
   },
   "outputs": [],
   "source": [
    "df.head()"
   ]
  },
  {
   "cell_type": "code",
   "execution_count": null,
   "id": "6bf32db7",
   "metadata": {
    "execution": {
     "iopub.execute_input": "2022-08-23T14:02:41.209551Z",
     "iopub.status.busy": "2022-08-23T14:02:41.208801Z",
     "iopub.status.idle": "2022-08-23T14:02:41.243349Z",
     "shell.execute_reply": "2022-08-23T14:02:41.242199Z"
    },
    "papermill": {
     "duration": 0.075706,
     "end_time": "2022-08-23T14:02:41.246092",
     "exception": false,
     "start_time": "2022-08-23T14:02:41.170386",
     "status": "completed"
    },
    "tags": []
   },
   "outputs": [],
   "source": [
    "groups=df.groupby(['Pclass'])\n",
    "# uncomment this: \n",
    "# groups.groups\n",
    "groups.get_group(1) # Give some another no say 2 or 3 for its Pclass."
   ]
  },
  {
   "cell_type": "code",
   "execution_count": null,
   "id": "ee47751c",
   "metadata": {
    "papermill": {
     "duration": 0.064291,
     "end_time": "2022-08-23T14:02:41.349207",
     "exception": false,
     "start_time": "2022-08-23T14:02:41.284916",
     "status": "completed"
    },
    "tags": []
   },
   "outputs": [],
   "source": []
  },
  {
   "cell_type": "markdown",
   "id": "a5464cce",
   "metadata": {
    "papermill": {
     "duration": 0.038413,
     "end_time": "2022-08-23T14:02:41.426612",
     "exception": false,
     "start_time": "2022-08-23T14:02:41.388199",
     "status": "completed"
    },
    "tags": []
   },
   "source": [
    "#### Average Age per Pclass"
   ]
  },
  {
   "cell_type": "code",
   "execution_count": null,
   "id": "21d7c593",
   "metadata": {
    "execution": {
     "iopub.execute_input": "2022-08-23T14:02:41.505424Z",
     "iopub.status.busy": "2022-08-23T14:02:41.504715Z",
     "iopub.status.idle": "2022-08-23T14:02:41.508997Z",
     "shell.execute_reply": "2022-08-23T14:02:41.508286Z"
    },
    "papermill": {
     "duration": 0.045717,
     "end_time": "2022-08-23T14:02:41.511038",
     "exception": false,
     "start_time": "2022-08-23T14:02:41.465321",
     "status": "completed"
    },
    "tags": []
   },
   "outputs": [],
   "source": [
    "df_grp1=df.groupby(['Pclass'])\n",
    "#df_grp1.head()"
   ]
  },
  {
   "cell_type": "code",
   "execution_count": null,
   "id": "d008396e",
   "metadata": {
    "execution": {
     "iopub.execute_input": "2022-08-23T14:02:41.587591Z",
     "iopub.status.busy": "2022-08-23T14:02:41.587118Z",
     "iopub.status.idle": "2022-08-23T14:02:41.597761Z",
     "shell.execute_reply": "2022-08-23T14:02:41.596969Z"
    },
    "papermill": {
     "duration": 0.051127,
     "end_time": "2022-08-23T14:02:41.599761",
     "exception": false,
     "start_time": "2022-08-23T14:02:41.548634",
     "status": "completed"
    },
    "tags": []
   },
   "outputs": [],
   "source": [
    "#Average Age per Pclass\n",
    "df_grp1['Age'].mean()"
   ]
  },
  {
   "cell_type": "code",
   "execution_count": null,
   "id": "598cd090",
   "metadata": {
    "execution": {
     "iopub.execute_input": "2022-08-23T14:02:41.677277Z",
     "iopub.status.busy": "2022-08-23T14:02:41.676548Z",
     "iopub.status.idle": "2022-08-23T14:02:41.685761Z",
     "shell.execute_reply": "2022-08-23T14:02:41.684950Z"
    },
    "papermill": {
     "duration": 0.049897,
     "end_time": "2022-08-23T14:02:41.687686",
     "exception": false,
     "start_time": "2022-08-23T14:02:41.637789",
     "status": "completed"
    },
    "tags": []
   },
   "outputs": [],
   "source": [
    "# Min/Max age per Pclass\n",
    "df_grp1['Age'].min() #max()"
   ]
  },
  {
   "cell_type": "code",
   "execution_count": null,
   "id": "29cfb3c3",
   "metadata": {
    "execution": {
     "iopub.execute_input": "2022-08-23T14:02:41.765562Z",
     "iopub.status.busy": "2022-08-23T14:02:41.764743Z",
     "iopub.status.idle": "2022-08-23T14:02:41.772044Z",
     "shell.execute_reply": "2022-08-23T14:02:41.771313Z"
    },
    "papermill": {
     "duration": 0.0483,
     "end_time": "2022-08-23T14:02:41.774117",
     "exception": false,
     "start_time": "2022-08-23T14:02:41.725817",
     "status": "completed"
    },
    "tags": []
   },
   "outputs": [],
   "source": [
    "# Count\n",
    "df_grp1['Age'].count()"
   ]
  },
  {
   "cell_type": "markdown",
   "id": "2c854339",
   "metadata": {
    "papermill": {
     "duration": 0.03742,
     "end_time": "2022-08-23T14:02:41.849367",
     "exception": false,
     "start_time": "2022-08-23T14:02:41.811947",
     "status": "completed"
    },
    "tags": []
   },
   "source": []
  },
  {
   "cell_type": "markdown",
   "id": "756ad8b6",
   "metadata": {
    "papermill": {
     "duration": 0.038046,
     "end_time": "2022-08-23T14:02:41.924999",
     "exception": false,
     "start_time": "2022-08-23T14:02:41.886953",
     "status": "completed"
    },
    "tags": []
   },
   "source": [
    "#### Using agg() function.\n",
    "We can use the aggregate fucntion to aggregate results based on some column  or our custom condition"
   ]
  },
  {
   "cell_type": "code",
   "execution_count": null,
   "id": "6bf176ae",
   "metadata": {
    "execution": {
     "iopub.execute_input": "2022-08-23T14:02:42.003148Z",
     "iopub.status.busy": "2022-08-23T14:02:42.002447Z",
     "iopub.status.idle": "2022-08-23T14:02:42.019185Z",
     "shell.execute_reply": "2022-08-23T14:02:42.018043Z"
    },
    "papermill": {
     "duration": 0.058576,
     "end_time": "2022-08-23T14:02:42.021297",
     "exception": false,
     "start_time": "2022-08-23T14:02:41.962721",
     "status": "completed"
    },
    "tags": []
   },
   "outputs": [],
   "source": [
    "df=train.copy()\n",
    "df.head()"
   ]
  },
  {
   "cell_type": "code",
   "execution_count": null,
   "id": "712ec770",
   "metadata": {
    "execution": {
     "iopub.execute_input": "2022-08-23T14:02:42.101056Z",
     "iopub.status.busy": "2022-08-23T14:02:42.100373Z",
     "iopub.status.idle": "2022-08-23T14:02:42.113089Z",
     "shell.execute_reply": "2022-08-23T14:02:42.111949Z"
    },
    "papermill": {
     "duration": 0.055914,
     "end_time": "2022-08-23T14:02:42.115275",
     "exception": false,
     "start_time": "2022-08-23T14:02:42.059361",
     "status": "completed"
    },
    "tags": []
   },
   "outputs": [],
   "source": [
    "# Average per Pclass using 'agg' this time\n",
    "df_grp2=df.groupby(['Pclass']).agg({'Age':lambda x: np.mean(x)}) \n",
    "df_grp2.head()"
   ]
  },
  {
   "cell_type": "code",
   "execution_count": null,
   "id": "17c36170",
   "metadata": {
    "execution": {
     "iopub.execute_input": "2022-08-23T14:02:42.194867Z",
     "iopub.status.busy": "2022-08-23T14:02:42.193876Z",
     "iopub.status.idle": "2022-08-23T14:02:42.205797Z",
     "shell.execute_reply": "2022-08-23T14:02:42.204795Z"
    },
    "papermill": {
     "duration": 0.053718,
     "end_time": "2022-08-23T14:02:42.207788",
     "exception": false,
     "start_time": "2022-08-23T14:02:42.154070",
     "status": "completed"
    },
    "tags": []
   },
   "outputs": [],
   "source": [
    "# Min/Max,count,Sum for each Pclass usign agg function\n",
    "df_grp3=df.groupby(['Pclass']).agg({'Age':'min'}).rename(columns={'Age':'Min Age'})\n",
    "# Use 'max'/'sum' etc. for that operation. Note that this ignores 'nan' values.\n",
    "df_grp3.head()"
   ]
  },
  {
   "cell_type": "code",
   "execution_count": null,
   "id": "112df941",
   "metadata": {
    "execution": {
     "iopub.execute_input": "2022-08-23T14:02:42.286660Z",
     "iopub.status.busy": "2022-08-23T14:02:42.285965Z",
     "iopub.status.idle": "2022-08-23T14:02:42.297667Z",
     "shell.execute_reply": "2022-08-23T14:02:42.296827Z"
    },
    "papermill": {
     "duration": 0.053399,
     "end_time": "2022-08-23T14:02:42.299700",
     "exception": false,
     "start_time": "2022-08-23T14:02:42.246301",
     "status": "completed"
    },
    "tags": []
   },
   "outputs": [],
   "source": [
    "# Names of all the pasengers in that class.\n",
    "df_grp4=df.groupby(['Pclass']).agg({'Name':lambda x:', '.join(x)})\n",
    "df_grp4.head()"
   ]
  },
  {
   "cell_type": "code",
   "execution_count": null,
   "id": "3d4d6ee3",
   "metadata": {
    "execution": {
     "iopub.execute_input": "2022-08-23T14:02:42.379221Z",
     "iopub.status.busy": "2022-08-23T14:02:42.378530Z",
     "iopub.status.idle": "2022-08-23T14:02:42.393779Z",
     "shell.execute_reply": "2022-08-23T14:02:42.392977Z"
    },
    "papermill": {
     "duration": 0.057603,
     "end_time": "2022-08-23T14:02:42.396072",
     "exception": false,
     "start_time": "2022-08-23T14:02:42.338469",
     "status": "completed"
    },
    "tags": []
   },
   "outputs": [],
   "source": [
    "df.head()"
   ]
  },
  {
   "cell_type": "markdown",
   "id": "a9fa4b84",
   "metadata": {
    "papermill": {
     "duration": 0.038893,
     "end_time": "2022-08-23T14:02:42.474477",
     "exception": false,
     "start_time": "2022-08-23T14:02:42.435584",
     "status": "completed"
    },
    "tags": []
   },
   "source": [
    "##### Note one thing that we can use multile agg functions on a single attribute by providing list in value part."
   ]
  },
  {
   "cell_type": "code",
   "execution_count": null,
   "id": "f6fc63f2",
   "metadata": {
    "execution": {
     "iopub.execute_input": "2022-08-23T14:02:42.554774Z",
     "iopub.status.busy": "2022-08-23T14:02:42.554057Z",
     "iopub.status.idle": "2022-08-23T14:02:42.568014Z",
     "shell.execute_reply": "2022-08-23T14:02:42.567240Z"
    },
    "papermill": {
     "duration": 0.056386,
     "end_time": "2022-08-23T14:02:42.570123",
     "exception": false,
     "start_time": "2022-08-23T14:02:42.513737",
     "status": "completed"
    },
    "tags": []
   },
   "outputs": [],
   "source": [
    "df_grp5=df.groupby(['Pclass']).agg({'Age':['max','min']})\n",
    "df_grp5.head() # Creates a MultiOndex Dataframe"
   ]
  },
  {
   "cell_type": "code",
   "execution_count": null,
   "id": "3ab4ae1f",
   "metadata": {
    "papermill": {
     "duration": 0.03874,
     "end_time": "2022-08-23T14:02:42.647916",
     "exception": false,
     "start_time": "2022-08-23T14:02:42.609176",
     "status": "completed"
    },
    "tags": []
   },
   "outputs": [],
   "source": []
  },
  {
   "cell_type": "markdown",
   "id": "7d63de23",
   "metadata": {
    "papermill": {
     "duration": 0.039055,
     "end_time": "2022-08-23T14:02:42.726114",
     "exception": false,
     "start_time": "2022-08-23T14:02:42.687059",
     "status": "completed"
    },
    "tags": []
   },
   "source": [
    "## Bonus: Iterating over rows in dataframe"
   ]
  },
  {
   "cell_type": "code",
   "execution_count": null,
   "id": "dda66ecd",
   "metadata": {
    "execution": {
     "iopub.execute_input": "2022-08-23T14:02:42.806325Z",
     "iopub.status.busy": "2022-08-23T14:02:42.805890Z",
     "iopub.status.idle": "2022-08-23T14:02:42.822551Z",
     "shell.execute_reply": "2022-08-23T14:02:42.821423Z"
    },
    "papermill": {
     "duration": 0.059481,
     "end_time": "2022-08-23T14:02:42.824773",
     "exception": false,
     "start_time": "2022-08-23T14:02:42.765292",
     "status": "completed"
    },
    "tags": []
   },
   "outputs": [],
   "source": [
    "df.head()"
   ]
  },
  {
   "cell_type": "code",
   "execution_count": null,
   "id": "37697d96",
   "metadata": {
    "execution": {
     "iopub.execute_input": "2022-08-23T14:02:42.906454Z",
     "iopub.status.busy": "2022-08-23T14:02:42.905164Z",
     "iopub.status.idle": "2022-08-23T14:02:42.949216Z",
     "shell.execute_reply": "2022-08-23T14:02:42.948373Z"
    },
    "papermill": {
     "duration": 0.087175,
     "end_time": "2022-08-23T14:02:42.951642",
     "exception": false,
     "start_time": "2022-08-23T14:02:42.864467",
     "status": "completed"
    },
    "tags": []
   },
   "outputs": [],
   "source": [
    "for index,row in df.iterrows():\n",
    "    # do something with row, say:\n",
    "    #print(row)\n",
    "    pass"
   ]
  },
  {
   "cell_type": "code",
   "execution_count": null,
   "metadata": {},
   "outputs": [],
   "source": []
  }
 ],
 "metadata": {
  "kernelspec": {
   "display_name": "Python 3",
   "language": "python",
   "name": "python3"
  },
  "language_info": {
   "codemirror_mode": {
    "name": "ipython",
    "version": 3
   },
   "file_extension": ".py",
   "mimetype": "text/x-python",
   "name": "python",
   "nbconvert_exporter": "python",
   "pygments_lexer": "ipython3",
   "version": "3.12.0"
  },
  "papermill": {
   "default_parameters": {},
   "duration": 19.874071,
   "end_time": "2022-08-23T14:02:44.593580",
   "environment_variables": {},
   "exception": null,
   "input_path": "__notebook__.ipynb",
   "output_path": "__notebook__.ipynb",
   "parameters": {},
   "start_time": "2022-08-23T14:02:24.719509",
   "version": "2.3.4"
  }
 },
 "nbformat": 4,
 "nbformat_minor": 5
}
